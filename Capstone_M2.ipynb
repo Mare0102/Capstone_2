{
 "cells": [
  {
   "cell_type": "markdown",
   "metadata": {},
   "source": [
    "# **DATA UNDERSTANDING**"
   ]
  },
  {
   "cell_type": "markdown",
   "metadata": {},
   "source": [
    "## **Context**"
   ]
  },
  {
   "cell_type": "markdown",
   "metadata": {},
   "source": [
    "The Sakila Database holds information about a company that rents movie DVDs. For this project, we will explore the database to gain more insight focusing on **Film**. This project will focused on 2 tables, that we will query through SQL.\n",
    "\n",
    "1. Film focused table\n",
    "2. Rental duration, Sales and Country\n"
   ]
  },
  {
   "cell_type": "markdown",
   "metadata": {},
   "source": [
    "## Database Information"
   ]
  },
  {
   "cell_type": "code",
   "execution_count": 1,
   "metadata": {},
   "outputs": [],
   "source": [
    "from IPython import display"
   ]
  },
  {
   "cell_type": "markdown",
   "metadata": {},
   "source": [
    "!['sakila'](https://www.jooq.org/img/sakila.png)"
   ]
  },
  {
   "cell_type": "markdown",
   "metadata": {},
   "source": [
    "| No. | Table | Description\n",
    "| :-- | -- | -- |\n",
    "| 1 | actor | lists information for all actors |\n",
    "| 2 | address | contains address information for customers, staff, and stores |\n",
    "| 3 | category | lists the categories that can be assigned to a film |\n",
    "| 4 | city | contains a list of cities |\n",
    "| 5 | country | contains a list of countries |\n",
    "| 6 | customer | contains a list of all customers |\n",
    "| 7 | film | list of all films potentially in stock in the stores |\n",
    "| 8 | film_actor | for each actor in a given film, there will be one row in the film_actor table listing the actor and film |\n",
    "| 9 | film_category | for each category applied to a film, there will be one row in the film_category table listing the category and film |\n",
    "| 10 | film_text | contains the film_id, title and description columns of the film table |\n",
    "| 11 | inventory | contains one row for each copy of a given film in a given store |\n",
    "| 12 | language | listing the possible languages that films can have for their language and original language values |\n",
    "| 13 | payment | records each payment made by a customer, with information such as the amount and the rental being paid for |\n",
    "| 14 | rental | contains one row for each rental of each inventory item with information about who rented what item, when it was rented, and when it was returned |\n",
    "| 15 | staff | lists all staff members, including information for email address, login information, and picture |\n",
    "| 16 | store | lists all stores in the system |"
   ]
  },
  {
   "cell_type": "markdown",
   "metadata": {},
   "source": [
    "## **DATABASE**"
   ]
  },
  {
   "cell_type": "markdown",
   "metadata": {},
   "source": [
    "### **Connecting to Database**"
   ]
  },
  {
   "cell_type": "markdown",
   "metadata": {},
   "source": [
    "In this section we will connect to the SAKILA database. Thus we will install mysql-connector-python, so we can use our SQL queries and access the dataframe."
   ]
  },
  {
   "cell_type": "code",
   "execution_count": 2,
   "metadata": {},
   "outputs": [
    {
     "name": "stdout",
     "output_type": "stream",
     "text": [
      "Requirement already satisfied: mysql-connector-python in c:\\users\\margaretha elaine\\anaconda3\\lib\\site-packages (8.0.28)\n",
      "Requirement already satisfied: protobuf>=3.0.0 in c:\\users\\margaretha elaine\\anaconda3\\lib\\site-packages (from mysql-connector-python) (3.19.4)\n",
      "Note: you may need to restart the kernel to use updated packages.\n"
     ]
    }
   ],
   "source": [
    "%pip install mysql-connector-python"
   ]
  },
  {
   "cell_type": "code",
   "execution_count": 3,
   "metadata": {},
   "outputs": [],
   "source": [
    "# Import modules\n",
    "\n",
    "import numpy as np\n",
    "import pandas as pd\n",
    "import seaborn as sns\n",
    "import matplotlib.pyplot as plt\n",
    "import mysql.connector as sqlcon"
   ]
  },
  {
   "cell_type": "code",
   "execution_count": 4,
   "metadata": {},
   "outputs": [],
   "source": [
    "# Connect to database\n",
    "\n",
    "mydb = sqlcon.connect(\n",
    "    host = 'localhost',\n",
    "    user = 'root',\n",
    "    passwd = 'Mysql033?!',\n",
    "    database = 'sakila'\n",
    ")"
   ]
  },
  {
   "cell_type": "markdown",
   "metadata": {},
   "source": [
    "We also need to write a function to write a ``query`` that will saved as a ``DataFrame``. The tables that we will use are constructed from a few tables, so we will need to write the query for the needed tables. As we need to form 2 tables, we will need to use this function to form our tables and save it to a datafame.\n"
   ]
  },
  {
   "cell_type": "code",
   "execution_count": 5,
   "metadata": {},
   "outputs": [],
   "source": [
    "# Write function\n",
    "\n",
    "curs = mydb.cursor()\n",
    "\n",
    "def sql_table(query):\n",
    "    curs.execute(query)\n",
    "    result = curs.fetchall()\n",
    "    table1 = pd.DataFrame(result, columns=curs.column_names)\n",
    "    return table1"
   ]
  },
  {
   "cell_type": "markdown",
   "metadata": {},
   "source": [
    "### **All About Film**"
   ]
  },
  {
   "cell_type": "markdown",
   "metadata": {},
   "source": [
    "In this table we will see a combination from 4 tables (category, film, language, inventory). This table will describe the Film's details, such as the inventory_id, category, title, release year, language, film length, rating, rental duration, and rental rate.\n",
    "\n",
    "| Column | Table Origin | Description |\n",
    "| :-- | :-- | :-- | \n",
    "| inventory_id | inventory | Number of inventory |\n",
    "| category | category | Film category |\n",
    "| title | film | Film title |\n",
    "| release_year | film | Film release year |\n",
    "| language | language | Film language |\n",
    "| length | film | Film duration (in minutes) |\n",
    "| rating | film | Film rating (G, PG, PG-13, etc) |\n",
    "| rental_duration | film | Length of rental period in days | \n",
    "| rental_rate | film | Cost to rent the film for the period specified in the rental_duration |\n",
    "\n",
    "This table will be saved as **df_film**."
   ]
  },
  {
   "cell_type": "code",
   "execution_count": 6,
   "metadata": {},
   "outputs": [
    {
     "data": {
      "text/html": [
       "<div>\n",
       "<style scoped>\n",
       "    .dataframe tbody tr th:only-of-type {\n",
       "        vertical-align: middle;\n",
       "    }\n",
       "\n",
       "    .dataframe tbody tr th {\n",
       "        vertical-align: top;\n",
       "    }\n",
       "\n",
       "    .dataframe thead th {\n",
       "        text-align: right;\n",
       "    }\n",
       "</style>\n",
       "<table border=\"1\" class=\"dataframe\">\n",
       "  <thead>\n",
       "    <tr style=\"text-align: right;\">\n",
       "      <th></th>\n",
       "      <th>inventory_id</th>\n",
       "      <th>category</th>\n",
       "      <th>title</th>\n",
       "      <th>release_year</th>\n",
       "      <th>language</th>\n",
       "      <th>length</th>\n",
       "      <th>rating</th>\n",
       "      <th>rental_duration</th>\n",
       "      <th>rental_rate</th>\n",
       "    </tr>\n",
       "  </thead>\n",
       "  <tbody>\n",
       "    <tr>\n",
       "      <th>0</th>\n",
       "      <td>4530</td>\n",
       "      <td>Travel</td>\n",
       "      <td>WORKING MICROCOSMOS</td>\n",
       "      <td>2006</td>\n",
       "      <td>English</td>\n",
       "      <td>74</td>\n",
       "      <td>R</td>\n",
       "      <td>4</td>\n",
       "      <td>4.99</td>\n",
       "    </tr>\n",
       "    <tr>\n",
       "      <th>1</th>\n",
       "      <td>4531</td>\n",
       "      <td>Travel</td>\n",
       "      <td>WORKING MICROCOSMOS</td>\n",
       "      <td>2006</td>\n",
       "      <td>English</td>\n",
       "      <td>74</td>\n",
       "      <td>R</td>\n",
       "      <td>4</td>\n",
       "      <td>4.99</td>\n",
       "    </tr>\n",
       "    <tr>\n",
       "      <th>2</th>\n",
       "      <td>4532</td>\n",
       "      <td>Travel</td>\n",
       "      <td>WORKING MICROCOSMOS</td>\n",
       "      <td>2006</td>\n",
       "      <td>English</td>\n",
       "      <td>74</td>\n",
       "      <td>R</td>\n",
       "      <td>4</td>\n",
       "      <td>4.99</td>\n",
       "    </tr>\n",
       "    <tr>\n",
       "      <th>3</th>\n",
       "      <td>4533</td>\n",
       "      <td>Travel</td>\n",
       "      <td>WORKING MICROCOSMOS</td>\n",
       "      <td>2006</td>\n",
       "      <td>English</td>\n",
       "      <td>74</td>\n",
       "      <td>R</td>\n",
       "      <td>4</td>\n",
       "      <td>4.99</td>\n",
       "    </tr>\n",
       "    <tr>\n",
       "      <th>4</th>\n",
       "      <td>4534</td>\n",
       "      <td>Travel</td>\n",
       "      <td>WORKING MICROCOSMOS</td>\n",
       "      <td>2006</td>\n",
       "      <td>English</td>\n",
       "      <td>74</td>\n",
       "      <td>R</td>\n",
       "      <td>4</td>\n",
       "      <td>4.99</td>\n",
       "    </tr>\n",
       "  </tbody>\n",
       "</table>\n",
       "</div>"
      ],
      "text/plain": [
       "   inventory_id category                title  release_year language  length  \\\n",
       "0          4530   Travel  WORKING MICROCOSMOS          2006  English      74   \n",
       "1          4531   Travel  WORKING MICROCOSMOS          2006  English      74   \n",
       "2          4532   Travel  WORKING MICROCOSMOS          2006  English      74   \n",
       "3          4533   Travel  WORKING MICROCOSMOS          2006  English      74   \n",
       "4          4534   Travel  WORKING MICROCOSMOS          2006  English      74   \n",
       "\n",
       "  rating  rental_duration rental_rate  \n",
       "0      R                4        4.99  \n",
       "1      R                4        4.99  \n",
       "2      R                4        4.99  \n",
       "3      R                4        4.99  \n",
       "4      R                4        4.99  "
      ]
     },
     "execution_count": 6,
     "metadata": {},
     "output_type": "execute_result"
    }
   ],
   "source": [
    "# Query 1\n",
    "\n",
    "df_film = sql_table(\n",
    "    '''\n",
    "    SELECT \n",
    "        i.inventory_id,\n",
    "        c.name AS category,\n",
    "        f.title,\n",
    "        f.release_year,\n",
    "        l.name AS language,\n",
    "        f.length,\n",
    "        f.rating,\n",
    "        f.rental_duration,\n",
    "        f.rental_rate\n",
    "    FROM\n",
    "        film_category AS fc\n",
    "            JOIN category AS c \n",
    "                ON c.category_id = fc.category_id\n",
    "            JOIN film AS f \n",
    "                ON f.film_id = fc.film_id\n",
    "            JOIN language AS l \n",
    "                ON l.language_id = f.language_id\n",
    "            JOIN inventory AS i \n",
    "                ON f.film_id = i.film_id;\n",
    "        '''\n",
    ")\n",
    "\n",
    "df_film.head()\n"
   ]
  },
  {
   "cell_type": "markdown",
   "metadata": {},
   "source": [
    "### **Rental Duration and Geography**\n"
   ]
  },
  {
   "cell_type": "markdown",
   "metadata": {},
   "source": [
    "In this table we will see a combination from 6 tables (rental, category, film, payment, country, city). This table will show the actual rental duration and actual income per category. We will also look if there are any geographical relation with the category.\n",
    "\n",
    "| Column | Table Origin | Description |\n",
    "| :-- | :-- | :-- |\n",
    "| rental_id | rental | Unique key that identifies the rental |\n",
    "| category | category | Film category |\n",
    "| rating | film | Film rating (G, PG, PG-13, etc) |\n",
    "| rental_rate | film | Cost to rent the film for the period specified in the rental_duration column |\n",
    "| rental_duration | film | Length of the rental period in days |\n",
    "| rental_length_day | film | Actual rental days (return_date - rental_date) |\n",
    "| rental_date | rental | Actual rental day |\n",
    "| payment | payment | The amount of payment (sum(amount)) |\n",
    "| country | country | Where the rental takes place (country) |\n",
    "| city | city | Where the rental takes place (city) |\n",
    "\n",
    "This table will be saved as **df_durcon**."
   ]
  },
  {
   "cell_type": "code",
   "execution_count": 7,
   "metadata": {},
   "outputs": [
    {
     "data": {
      "text/html": [
       "<div>\n",
       "<style scoped>\n",
       "    .dataframe tbody tr th:only-of-type {\n",
       "        vertical-align: middle;\n",
       "    }\n",
       "\n",
       "    .dataframe tbody tr th {\n",
       "        vertical-align: top;\n",
       "    }\n",
       "\n",
       "    .dataframe thead th {\n",
       "        text-align: right;\n",
       "    }\n",
       "</style>\n",
       "<table border=\"1\" class=\"dataframe\">\n",
       "  <thead>\n",
       "    <tr style=\"text-align: right;\">\n",
       "      <th></th>\n",
       "      <th>rental_id</th>\n",
       "      <th>category</th>\n",
       "      <th>rating</th>\n",
       "      <th>rental_rate</th>\n",
       "      <th>rental_duration</th>\n",
       "      <th>rental_length_day</th>\n",
       "      <th>payment</th>\n",
       "      <th>rental_date</th>\n",
       "      <th>country</th>\n",
       "      <th>city</th>\n",
       "    </tr>\n",
       "  </thead>\n",
       "  <tbody>\n",
       "    <tr>\n",
       "      <th>0</th>\n",
       "      <td>1459</td>\n",
       "      <td>Games</td>\n",
       "      <td>R</td>\n",
       "      <td>0.99</td>\n",
       "      <td>5</td>\n",
       "      <td>7.0</td>\n",
       "      <td>2.99</td>\n",
       "      <td>2005-06-15 20:25:53</td>\n",
       "      <td>Afghanistan</td>\n",
       "      <td>Kabul</td>\n",
       "    </tr>\n",
       "    <tr>\n",
       "      <th>1</th>\n",
       "      <td>7090</td>\n",
       "      <td>Comedy</td>\n",
       "      <td>R</td>\n",
       "      <td>4.99</td>\n",
       "      <td>7</td>\n",
       "      <td>2.0</td>\n",
       "      <td>4.99</td>\n",
       "      <td>2005-07-27 04:43:53</td>\n",
       "      <td>Afghanistan</td>\n",
       "      <td>Kabul</td>\n",
       "    </tr>\n",
       "    <tr>\n",
       "      <th>2</th>\n",
       "      <td>7236</td>\n",
       "      <td>Action</td>\n",
       "      <td>PG-13</td>\n",
       "      <td>4.99</td>\n",
       "      <td>3</td>\n",
       "      <td>7.0</td>\n",
       "      <td>8.99</td>\n",
       "      <td>2005-07-27 10:09:39</td>\n",
       "      <td>Afghanistan</td>\n",
       "      <td>Kabul</td>\n",
       "    </tr>\n",
       "    <tr>\n",
       "      <th>3</th>\n",
       "      <td>9018</td>\n",
       "      <td>Classics</td>\n",
       "      <td>NC-17</td>\n",
       "      <td>2.99</td>\n",
       "      <td>4</td>\n",
       "      <td>8.0</td>\n",
       "      <td>6.99</td>\n",
       "      <td>2005-07-30 05:28:40</td>\n",
       "      <td>Afghanistan</td>\n",
       "      <td>Kabul</td>\n",
       "    </tr>\n",
       "    <tr>\n",
       "      <th>4</th>\n",
       "      <td>9902</td>\n",
       "      <td>New</td>\n",
       "      <td>G</td>\n",
       "      <td>0.99</td>\n",
       "      <td>3</td>\n",
       "      <td>9.0</td>\n",
       "      <td>6.99</td>\n",
       "      <td>2005-07-31 14:24:33</td>\n",
       "      <td>Afghanistan</td>\n",
       "      <td>Kabul</td>\n",
       "    </tr>\n",
       "  </tbody>\n",
       "</table>\n",
       "</div>"
      ],
      "text/plain": [
       "   rental_id  category rating rental_rate  rental_duration  rental_length_day  \\\n",
       "0       1459     Games      R        0.99                5                7.0   \n",
       "1       7090    Comedy      R        4.99                7                2.0   \n",
       "2       7236    Action  PG-13        4.99                3                7.0   \n",
       "3       9018  Classics  NC-17        2.99                4                8.0   \n",
       "4       9902       New      G        0.99                3                9.0   \n",
       "\n",
       "  payment         rental_date      country   city  \n",
       "0    2.99 2005-06-15 20:25:53  Afghanistan  Kabul  \n",
       "1    4.99 2005-07-27 04:43:53  Afghanistan  Kabul  \n",
       "2    8.99 2005-07-27 10:09:39  Afghanistan  Kabul  \n",
       "3    6.99 2005-07-30 05:28:40  Afghanistan  Kabul  \n",
       "4    6.99 2005-07-31 14:24:33  Afghanistan  Kabul  "
      ]
     },
     "execution_count": 7,
     "metadata": {},
     "output_type": "execute_result"
    }
   ],
   "source": [
    "# Query 2\n",
    "\n",
    "df_durcon = sql_table(\n",
    "    '''\n",
    "    SELECT \n",
    "        r.rental_id,\n",
    "        ca.name AS category,\n",
    "        f.rating,\n",
    "        f.rental_rate,\n",
    "        f.rental_duration,\n",
    "        DATEDIFF(r.return_date, r.rental_date) AS rental_length_day,\n",
    "        SUM(p.amount) AS payment,\n",
    "        r.rental_date,\n",
    "        co.country,\n",
    "        ci.city\n",
    "    FROM\n",
    "        film_category AS fc\n",
    "            JOIN category AS ca \n",
    "                ON ca.category_id = fc.category_id\n",
    "            JOIN film AS f \n",
    "                ON fc.film_id = f.film_id\n",
    "            JOIN inventory AS i \n",
    "                ON f.film_id = i.film_id\n",
    "            JOIN rental AS r \n",
    "                ON i.inventory_id = r.inventory_id\n",
    "            JOIN payment AS p \n",
    "                ON r.rental_id = p.rental_id\n",
    "            JOIN customer AS cu \n",
    "                ON cu.customer_id = p.customer_id\n",
    "            JOIN address AS a \n",
    "                ON a.address_id = cu.address_id\n",
    "            JOIN city AS ci \n",
    "                ON ci.city_id = a.city_id\n",
    "            JOIN country AS co \n",
    "                ON co.country_id = ci.country_id\n",
    "    GROUP BY rental_id\n",
    "    ORDER BY country;  \n",
    "    '''\n",
    ")\n",
    "\n",
    "df_durcon.head()"
   ]
  },
  {
   "cell_type": "markdown",
   "metadata": {},
   "source": [
    "### **Additional Info for Rating**"
   ]
  },
  {
   "cell_type": "markdown",
   "metadata": {},
   "source": [
    "The table below is for rating abbreviation reference.\n",
    "\n",
    "| Rating | Description | Remarks |\n",
    "| :-- | :-- | :--|\n",
    "| G | General Audiences | All ages admitted |\n",
    "| PG | Parental Guidance Suggested | Some material may not be suitable for children |\n",
    "| PG-13 | Parents Strongly Cautioned | Some material may be inappropriate for children under 13 |\n",
    "| R | Restricted | Under 17 requires accompanying parent or adult guardian |\n",
    "| NC-17 | No one 17 and under admitted |   |\n"
   ]
  },
  {
   "cell_type": "markdown",
   "metadata": {},
   "source": [
    "# **DATA MANIPULATION**"
   ]
  },
  {
   "cell_type": "markdown",
   "metadata": {},
   "source": [
    "In this section we will prepare the data (missing value, data types, etc) so that we have a reliable dataframe that can be analyzed."
   ]
  },
  {
   "cell_type": "markdown",
   "metadata": {},
   "source": [
    "## **Data Anomalies**"
   ]
  },
  {
   "cell_type": "code",
   "execution_count": 8,
   "metadata": {},
   "outputs": [
    {
     "name": "stdout",
     "output_type": "stream",
     "text": [
      "<class 'pandas.core.frame.DataFrame'>\n",
      "RangeIndex: 4581 entries, 0 to 4580\n",
      "Data columns (total 9 columns):\n",
      " #   Column           Non-Null Count  Dtype \n",
      "---  ------           --------------  ----- \n",
      " 0   inventory_id     4581 non-null   int64 \n",
      " 1   category         4581 non-null   object\n",
      " 2   title            4581 non-null   object\n",
      " 3   release_year     4581 non-null   int64 \n",
      " 4   language         4581 non-null   object\n",
      " 5   length           4581 non-null   int64 \n",
      " 6   rating           4581 non-null   object\n",
      " 7   rental_duration  4581 non-null   int64 \n",
      " 8   rental_rate      4581 non-null   object\n",
      "dtypes: int64(4), object(5)\n",
      "memory usage: 322.2+ KB\n"
     ]
    }
   ],
   "source": [
    "# Check table's info\n",
    "\n",
    "df_film.info()"
   ]
  },
  {
   "cell_type": "code",
   "execution_count": 9,
   "metadata": {},
   "outputs": [
    {
     "name": "stdout",
     "output_type": "stream",
     "text": [
      "<class 'pandas.core.frame.DataFrame'>\n",
      "RangeIndex: 16044 entries, 0 to 16043\n",
      "Data columns (total 10 columns):\n",
      " #   Column             Non-Null Count  Dtype         \n",
      "---  ------             --------------  -----         \n",
      " 0   rental_id          16044 non-null  int64         \n",
      " 1   category           16044 non-null  object        \n",
      " 2   rating             16044 non-null  object        \n",
      " 3   rental_rate        16044 non-null  object        \n",
      " 4   rental_duration    16044 non-null  int64         \n",
      " 5   rental_length_day  15861 non-null  float64       \n",
      " 6   payment            16044 non-null  object        \n",
      " 7   rental_date        16044 non-null  datetime64[ns]\n",
      " 8   country            16044 non-null  object        \n",
      " 9   city               16044 non-null  object        \n",
      "dtypes: datetime64[ns](1), float64(1), int64(2), object(6)\n",
      "memory usage: 1.2+ MB\n"
     ]
    }
   ],
   "source": [
    "df_durcon.info()"
   ]
  },
  {
   "cell_type": "markdown",
   "metadata": {},
   "source": [
    "## **Data Review**"
   ]
  },
  {
   "cell_type": "markdown",
   "metadata": {},
   "source": [
    "From the information above we can see that there are a few issues with missing values and data type. \n",
    "\n",
    "**df_film**\n",
    "<br>\n",
    "While there are no missing values on all the columns, we have wrong data type assigned to the rental_rate column. The rental_rate column is the rate of borrowing film in dollar. The data type should be float not object.\n",
    "\n",
    "**df_durcon**\n",
    "<br>\n",
    "We have missing values on the rental_length_day and the wrong data type also assigned to the rental_rate and payment column. \n"
   ]
  },
  {
   "cell_type": "code",
   "execution_count": 10,
   "metadata": {},
   "outputs": [
    {
     "data": {
      "text/plain": [
       "inventory_id       0\n",
       "category           0\n",
       "title              0\n",
       "release_year       0\n",
       "language           0\n",
       "length             0\n",
       "rating             0\n",
       "rental_duration    0\n",
       "rental_rate        0\n",
       "dtype: int64"
      ]
     },
     "execution_count": 10,
     "metadata": {},
     "output_type": "execute_result"
    }
   ],
   "source": [
    "# Check if there are missing values on df_film\n",
    "\n",
    "df_film.isna().sum()"
   ]
  },
  {
   "cell_type": "code",
   "execution_count": 11,
   "metadata": {},
   "outputs": [
    {
     "data": {
      "text/plain": [
       "rental_id              0\n",
       "category               0\n",
       "rating                 0\n",
       "rental_rate            0\n",
       "rental_duration        0\n",
       "rental_length_day    183\n",
       "payment                0\n",
       "rental_date            0\n",
       "country                0\n",
       "city                   0\n",
       "dtype: int64"
      ]
     },
     "execution_count": 11,
     "metadata": {},
     "output_type": "execute_result"
    }
   ],
   "source": [
    "# Check if there are missing values on df_durcon\n",
    "\n",
    "df_durcon.isna().sum()"
   ]
  },
  {
   "cell_type": "code",
   "execution_count": 12,
   "metadata": {},
   "outputs": [
    {
     "data": {
      "text/plain": [
       "0"
      ]
     },
     "execution_count": 12,
     "metadata": {},
     "output_type": "execute_result"
    }
   ],
   "source": [
    "# Check if there are duplicate values on df_film\n",
    "\n",
    "df_film.duplicated().sum()"
   ]
  },
  {
   "cell_type": "code",
   "execution_count": 13,
   "metadata": {},
   "outputs": [
    {
     "data": {
      "text/plain": [
       "0"
      ]
     },
     "execution_count": 13,
     "metadata": {},
     "output_type": "execute_result"
    }
   ],
   "source": [
    "# Check if there are duplicate values on df_durcon\n",
    "\n",
    "df_durcon.duplicated().sum()"
   ]
  },
  {
   "cell_type": "markdown",
   "metadata": {},
   "source": [
    "## **Missing Values**"
   ]
  },
  {
   "cell_type": "markdown",
   "metadata": {},
   "source": [
    "In this section we will decide on how to treat the missing value on rental_length_day column. The missing value takes 1.1% of the overall data, this we will fill the missing values with either mean or median. First, we will see all the statistical information on the rental_length_day."
   ]
  },
  {
   "cell_type": "code",
   "execution_count": 14,
   "metadata": {},
   "outputs": [
    {
     "data": {
      "text/plain": [
       "count    15861.000000\n",
       "mean         5.025219\n",
       "std          2.611835\n",
       "min          0.000000\n",
       "25%          3.000000\n",
       "50%          5.000000\n",
       "75%          7.000000\n",
       "max         10.000000\n",
       "Name: rental_length_day, dtype: float64"
      ]
     },
     "execution_count": 14,
     "metadata": {},
     "output_type": "execute_result"
    }
   ],
   "source": [
    "df_durcon['rental_length_day'].describe()"
   ]
  },
  {
   "cell_type": "markdown",
   "metadata": {},
   "source": [
    "As we can see the mean and median have similar values, thus we can conclude that our data is normally distributed. In this project we will use the median, which is 5."
   ]
  },
  {
   "cell_type": "code",
   "execution_count": 15,
   "metadata": {},
   "outputs": [],
   "source": [
    "# Write the fillna command\n",
    "\n",
    "df_durcon['rental_length_day'].fillna(df_durcon['rental_length_day'].median(), inplace=True)"
   ]
  },
  {
   "cell_type": "code",
   "execution_count": 16,
   "metadata": {},
   "outputs": [
    {
     "data": {
      "text/plain": [
       "rental_id            0\n",
       "category             0\n",
       "rating               0\n",
       "rental_rate          0\n",
       "rental_duration      0\n",
       "rental_length_day    0\n",
       "payment              0\n",
       "rental_date          0\n",
       "country              0\n",
       "city                 0\n",
       "dtype: int64"
      ]
     },
     "execution_count": 16,
     "metadata": {},
     "output_type": "execute_result"
    }
   ],
   "source": [
    "# Check if there are still exist missing values\n",
    "\n",
    "df_durcon.isna().sum()"
   ]
  },
  {
   "cell_type": "markdown",
   "metadata": {},
   "source": [
    "We can see that all the values on the columns are 0, this means there are no blank row exist"
   ]
  },
  {
   "cell_type": "markdown",
   "metadata": {},
   "source": [
    "## **Change Data Type**"
   ]
  },
  {
   "cell_type": "markdown",
   "metadata": {},
   "source": [
    "In this section we will treat the columns that have wrong data type.\n",
    "\n",
    "They are:\n",
    "1. df_film['rental_rate'] object --> float\n",
    "2. df_durcon['rental_rate'] object --> float\n",
    "3. df_durcon['total_sales'] object --> float"
   ]
  },
  {
   "cell_type": "code",
   "execution_count": 17,
   "metadata": {},
   "outputs": [
    {
     "name": "stdout",
     "output_type": "stream",
     "text": [
      "<class 'pandas.core.frame.DataFrame'>\n",
      "RangeIndex: 4581 entries, 0 to 4580\n",
      "Data columns (total 9 columns):\n",
      " #   Column           Non-Null Count  Dtype \n",
      "---  ------           --------------  ----- \n",
      " 0   inventory_id     4581 non-null   int64 \n",
      " 1   category         4581 non-null   object\n",
      " 2   title            4581 non-null   object\n",
      " 3   release_year     4581 non-null   int64 \n",
      " 4   language         4581 non-null   object\n",
      " 5   length           4581 non-null   int64 \n",
      " 6   rating           4581 non-null   object\n",
      " 7   rental_duration  4581 non-null   int64 \n",
      " 8   rental_rate      4581 non-null   object\n",
      "dtypes: int64(4), object(5)\n",
      "memory usage: 322.2+ KB\n"
     ]
    }
   ],
   "source": [
    "# Check the data type\n",
    "\n",
    "df_film.info()"
   ]
  },
  {
   "cell_type": "code",
   "execution_count": 18,
   "metadata": {},
   "outputs": [
    {
     "name": "stdout",
     "output_type": "stream",
     "text": [
      "<class 'pandas.core.frame.DataFrame'>\n",
      "RangeIndex: 16044 entries, 0 to 16043\n",
      "Data columns (total 10 columns):\n",
      " #   Column             Non-Null Count  Dtype         \n",
      "---  ------             --------------  -----         \n",
      " 0   rental_id          16044 non-null  int64         \n",
      " 1   category           16044 non-null  object        \n",
      " 2   rating             16044 non-null  object        \n",
      " 3   rental_rate        16044 non-null  object        \n",
      " 4   rental_duration    16044 non-null  int64         \n",
      " 5   rental_length_day  16044 non-null  float64       \n",
      " 6   payment            16044 non-null  object        \n",
      " 7   rental_date        16044 non-null  datetime64[ns]\n",
      " 8   country            16044 non-null  object        \n",
      " 9   city               16044 non-null  object        \n",
      "dtypes: datetime64[ns](1), float64(1), int64(2), object(6)\n",
      "memory usage: 1.2+ MB\n"
     ]
    }
   ],
   "source": [
    "df_durcon.info()"
   ]
  },
  {
   "cell_type": "code",
   "execution_count": 19,
   "metadata": {},
   "outputs": [],
   "source": [
    "# Change df_film['rental_rate']\n",
    "df_film['rental_rate'] = df_film['rental_rate'].astype('float')\n",
    "\n",
    "# Change df_durcon['rental_rate']\n",
    "df_durcon['rental_rate'] = df_durcon['rental_rate'].astype('float')\n",
    "\n",
    "# Change df_durcon['payment']\n",
    "df_durcon['payment'] = df_durcon['payment'].astype('float')"
   ]
  },
  {
   "cell_type": "code",
   "execution_count": 20,
   "metadata": {},
   "outputs": [
    {
     "data": {
      "text/plain": [
       "inventory_id         int64\n",
       "category            object\n",
       "title               object\n",
       "release_year         int64\n",
       "language            object\n",
       "length               int64\n",
       "rating              object\n",
       "rental_duration      int64\n",
       "rental_rate        float64\n",
       "dtype: object"
      ]
     },
     "execution_count": 20,
     "metadata": {},
     "output_type": "execute_result"
    }
   ],
   "source": [
    "# Check the data types\n",
    "\n",
    "df_film.dtypes"
   ]
  },
  {
   "cell_type": "code",
   "execution_count": 21,
   "metadata": {},
   "outputs": [
    {
     "data": {
      "text/plain": [
       "rental_id                     int64\n",
       "category                     object\n",
       "rating                       object\n",
       "rental_rate                 float64\n",
       "rental_duration               int64\n",
       "rental_length_day           float64\n",
       "payment                     float64\n",
       "rental_date          datetime64[ns]\n",
       "country                      object\n",
       "city                         object\n",
       "dtype: object"
      ]
     },
     "execution_count": 21,
     "metadata": {},
     "output_type": "execute_result"
    }
   ],
   "source": [
    "df_durcon.dtypes"
   ]
  },
  {
   "cell_type": "markdown",
   "metadata": {},
   "source": [
    "## Feature Month\n",
    "\n",
    "Extracting rental month information from datetime data (rental_date)."
   ]
  },
  {
   "cell_type": "code",
   "execution_count": 22,
   "metadata": {},
   "outputs": [],
   "source": [
    "import datetime as dt\n",
    "from datetime import datetime"
   ]
  },
  {
   "cell_type": "code",
   "execution_count": 23,
   "metadata": {},
   "outputs": [],
   "source": [
    "df_durcon['month'] = pd.DatetimeIndex(df_durcon['rental_date']).month"
   ]
  },
  {
   "cell_type": "markdown",
   "metadata": {},
   "source": [
    "## **Preview Cleaned Data**"
   ]
  },
  {
   "cell_type": "code",
   "execution_count": 24,
   "metadata": {},
   "outputs": [
    {
     "data": {
      "text/html": [
       "<div>\n",
       "<style scoped>\n",
       "    .dataframe tbody tr th:only-of-type {\n",
       "        vertical-align: middle;\n",
       "    }\n",
       "\n",
       "    .dataframe tbody tr th {\n",
       "        vertical-align: top;\n",
       "    }\n",
       "\n",
       "    .dataframe thead th {\n",
       "        text-align: right;\n",
       "    }\n",
       "</style>\n",
       "<table border=\"1\" class=\"dataframe\">\n",
       "  <thead>\n",
       "    <tr style=\"text-align: right;\">\n",
       "      <th></th>\n",
       "      <th>inventory_id</th>\n",
       "      <th>category</th>\n",
       "      <th>title</th>\n",
       "      <th>release_year</th>\n",
       "      <th>language</th>\n",
       "      <th>length</th>\n",
       "      <th>rating</th>\n",
       "      <th>rental_duration</th>\n",
       "      <th>rental_rate</th>\n",
       "    </tr>\n",
       "  </thead>\n",
       "  <tbody>\n",
       "    <tr>\n",
       "      <th>1037</th>\n",
       "      <td>2065</td>\n",
       "      <td>New</td>\n",
       "      <td>IDAHO LOVE</td>\n",
       "      <td>2006</td>\n",
       "      <td>English</td>\n",
       "      <td>172</td>\n",
       "      <td>PG-13</td>\n",
       "      <td>3</td>\n",
       "      <td>2.99</td>\n",
       "    </tr>\n",
       "    <tr>\n",
       "      <th>563</th>\n",
       "      <td>464</td>\n",
       "      <td>Sports</td>\n",
       "      <td>BUBBLE GROSSE</td>\n",
       "      <td>2006</td>\n",
       "      <td>English</td>\n",
       "      <td>60</td>\n",
       "      <td>R</td>\n",
       "      <td>4</td>\n",
       "      <td>4.99</td>\n",
       "    </tr>\n",
       "    <tr>\n",
       "      <th>2961</th>\n",
       "      <td>2809</td>\n",
       "      <td>Documentary</td>\n",
       "      <td>NATIONAL STORY</td>\n",
       "      <td>2006</td>\n",
       "      <td>English</td>\n",
       "      <td>92</td>\n",
       "      <td>NC-17</td>\n",
       "      <td>4</td>\n",
       "      <td>2.99</td>\n",
       "    </tr>\n",
       "    <tr>\n",
       "      <th>79</th>\n",
       "      <td>2956</td>\n",
       "      <td>Travel</td>\n",
       "      <td>OUTLAW HANKY</td>\n",
       "      <td>2006</td>\n",
       "      <td>English</td>\n",
       "      <td>148</td>\n",
       "      <td>PG-13</td>\n",
       "      <td>7</td>\n",
       "      <td>4.99</td>\n",
       "    </tr>\n",
       "    <tr>\n",
       "      <th>1263</th>\n",
       "      <td>2368</td>\n",
       "      <td>Music</td>\n",
       "      <td>LEGEND JEDI</td>\n",
       "      <td>2006</td>\n",
       "      <td>English</td>\n",
       "      <td>59</td>\n",
       "      <td>PG</td>\n",
       "      <td>7</td>\n",
       "      <td>0.99</td>\n",
       "    </tr>\n",
       "    <tr>\n",
       "      <th>1288</th>\n",
       "      <td>1735</td>\n",
       "      <td>Music</td>\n",
       "      <td>GREATEST NORTH</td>\n",
       "      <td>2006</td>\n",
       "      <td>English</td>\n",
       "      <td>93</td>\n",
       "      <td>NC-17</td>\n",
       "      <td>5</td>\n",
       "      <td>2.99</td>\n",
       "    </tr>\n",
       "    <tr>\n",
       "      <th>226</th>\n",
       "      <td>340</td>\n",
       "      <td>Travel</td>\n",
       "      <td>BIRD INDEPENDENCE</td>\n",
       "      <td>2006</td>\n",
       "      <td>English</td>\n",
       "      <td>163</td>\n",
       "      <td>G</td>\n",
       "      <td>6</td>\n",
       "      <td>4.99</td>\n",
       "    </tr>\n",
       "    <tr>\n",
       "      <th>3988</th>\n",
       "      <td>3970</td>\n",
       "      <td>Animation</td>\n",
       "      <td>SUNRISE LEAGUE</td>\n",
       "      <td>2006</td>\n",
       "      <td>English</td>\n",
       "      <td>135</td>\n",
       "      <td>PG-13</td>\n",
       "      <td>3</td>\n",
       "      <td>4.99</td>\n",
       "    </tr>\n",
       "    <tr>\n",
       "      <th>4304</th>\n",
       "      <td>4186</td>\n",
       "      <td>Action</td>\n",
       "      <td>TRIP NEWTON</td>\n",
       "      <td>2006</td>\n",
       "      <td>English</td>\n",
       "      <td>64</td>\n",
       "      <td>PG-13</td>\n",
       "      <td>7</td>\n",
       "      <td>4.99</td>\n",
       "    </tr>\n",
       "    <tr>\n",
       "      <th>4296</th>\n",
       "      <td>4210</td>\n",
       "      <td>Action</td>\n",
       "      <td>TRUMAN CRAZY</td>\n",
       "      <td>2006</td>\n",
       "      <td>English</td>\n",
       "      <td>92</td>\n",
       "      <td>G</td>\n",
       "      <td>7</td>\n",
       "      <td>4.99</td>\n",
       "    </tr>\n",
       "  </tbody>\n",
       "</table>\n",
       "</div>"
      ],
      "text/plain": [
       "      inventory_id     category              title  release_year language  \\\n",
       "1037          2065          New         IDAHO LOVE          2006  English   \n",
       "563            464       Sports      BUBBLE GROSSE          2006  English   \n",
       "2961          2809  Documentary     NATIONAL STORY          2006  English   \n",
       "79            2956       Travel       OUTLAW HANKY          2006  English   \n",
       "1263          2368        Music        LEGEND JEDI          2006  English   \n",
       "1288          1735        Music     GREATEST NORTH          2006  English   \n",
       "226            340       Travel  BIRD INDEPENDENCE          2006  English   \n",
       "3988          3970    Animation     SUNRISE LEAGUE          2006  English   \n",
       "4304          4186       Action        TRIP NEWTON          2006  English   \n",
       "4296          4210       Action       TRUMAN CRAZY          2006  English   \n",
       "\n",
       "      length rating  rental_duration  rental_rate  \n",
       "1037     172  PG-13                3         2.99  \n",
       "563       60      R                4         4.99  \n",
       "2961      92  NC-17                4         2.99  \n",
       "79       148  PG-13                7         4.99  \n",
       "1263      59     PG                7         0.99  \n",
       "1288      93  NC-17                5         2.99  \n",
       "226      163      G                6         4.99  \n",
       "3988     135  PG-13                3         4.99  \n",
       "4304      64  PG-13                7         4.99  \n",
       "4296      92      G                7         4.99  "
      ]
     },
     "execution_count": 24,
     "metadata": {},
     "output_type": "execute_result"
    }
   ],
   "source": [
    "# Clean Data\n",
    "\n",
    "df_film.sample(10)"
   ]
  },
  {
   "cell_type": "code",
   "execution_count": 25,
   "metadata": {},
   "outputs": [
    {
     "data": {
      "text/html": [
       "<div>\n",
       "<style scoped>\n",
       "    .dataframe tbody tr th:only-of-type {\n",
       "        vertical-align: middle;\n",
       "    }\n",
       "\n",
       "    .dataframe tbody tr th {\n",
       "        vertical-align: top;\n",
       "    }\n",
       "\n",
       "    .dataframe thead th {\n",
       "        text-align: right;\n",
       "    }\n",
       "</style>\n",
       "<table border=\"1\" class=\"dataframe\">\n",
       "  <thead>\n",
       "    <tr style=\"text-align: right;\">\n",
       "      <th></th>\n",
       "      <th>rental_id</th>\n",
       "      <th>category</th>\n",
       "      <th>rating</th>\n",
       "      <th>rental_rate</th>\n",
       "      <th>rental_duration</th>\n",
       "      <th>rental_length_day</th>\n",
       "      <th>payment</th>\n",
       "      <th>rental_date</th>\n",
       "      <th>country</th>\n",
       "      <th>city</th>\n",
       "      <th>month</th>\n",
       "    </tr>\n",
       "  </thead>\n",
       "  <tbody>\n",
       "    <tr>\n",
       "      <th>1268</th>\n",
       "      <td>12759</td>\n",
       "      <td>Sci-Fi</td>\n",
       "      <td>PG</td>\n",
       "      <td>2.99</td>\n",
       "      <td>3</td>\n",
       "      <td>5.0</td>\n",
       "      <td>7.98</td>\n",
       "      <td>2006-02-14 15:16:03</td>\n",
       "      <td>Brazil</td>\n",
       "      <td>Santo Andr</td>\n",
       "      <td>2</td>\n",
       "    </tr>\n",
       "    <tr>\n",
       "      <th>2693</th>\n",
       "      <td>11672</td>\n",
       "      <td>Games</td>\n",
       "      <td>R</td>\n",
       "      <td>4.99</td>\n",
       "      <td>3</td>\n",
       "      <td>5.0</td>\n",
       "      <td>4.99</td>\n",
       "      <td>2006-02-14 15:16:03</td>\n",
       "      <td>China</td>\n",
       "      <td>Yingkou</td>\n",
       "      <td>2</td>\n",
       "    </tr>\n",
       "    <tr>\n",
       "      <th>130</th>\n",
       "      <td>63</td>\n",
       "      <td>Children</td>\n",
       "      <td>G</td>\n",
       "      <td>0.99</td>\n",
       "      <td>3</td>\n",
       "      <td>2.0</td>\n",
       "      <td>0.99</td>\n",
       "      <td>2005-05-25 09:19:16</td>\n",
       "      <td>Angola</td>\n",
       "      <td>Namibe</td>\n",
       "      <td>5</td>\n",
       "    </tr>\n",
       "    <tr>\n",
       "      <th>11966</th>\n",
       "      <td>13761</td>\n",
       "      <td>Sports</td>\n",
       "      <td>PG-13</td>\n",
       "      <td>4.99</td>\n",
       "      <td>6</td>\n",
       "      <td>1.0</td>\n",
       "      <td>4.99</td>\n",
       "      <td>2005-08-20 11:28:50</td>\n",
       "      <td>Russian Federation</td>\n",
       "      <td>Kurgan</td>\n",
       "      <td>8</td>\n",
       "    </tr>\n",
       "    <tr>\n",
       "      <th>4122</th>\n",
       "      <td>5268</td>\n",
       "      <td>Animation</td>\n",
       "      <td>NC-17</td>\n",
       "      <td>0.99</td>\n",
       "      <td>4</td>\n",
       "      <td>3.0</td>\n",
       "      <td>0.99</td>\n",
       "      <td>2005-07-09 14:22:43</td>\n",
       "      <td>Egypt</td>\n",
       "      <td>Shubra al-Khayma</td>\n",
       "      <td>7</td>\n",
       "    </tr>\n",
       "    <tr>\n",
       "      <th>10297</th>\n",
       "      <td>6229</td>\n",
       "      <td>Foreign</td>\n",
       "      <td>PG</td>\n",
       "      <td>2.99</td>\n",
       "      <td>5</td>\n",
       "      <td>9.0</td>\n",
       "      <td>6.99</td>\n",
       "      <td>2005-07-11 13:59:50</td>\n",
       "      <td>Pakistan</td>\n",
       "      <td>Okara</td>\n",
       "      <td>7</td>\n",
       "    </tr>\n",
       "    <tr>\n",
       "      <th>12809</th>\n",
       "      <td>7062</td>\n",
       "      <td>Family</td>\n",
       "      <td>G</td>\n",
       "      <td>2.99</td>\n",
       "      <td>3</td>\n",
       "      <td>7.0</td>\n",
       "      <td>6.99</td>\n",
       "      <td>2005-07-27 03:52:01</td>\n",
       "      <td>Spain</td>\n",
       "      <td>Ourense (Orense)</td>\n",
       "      <td>7</td>\n",
       "    </tr>\n",
       "    <tr>\n",
       "      <th>7373</th>\n",
       "      <td>14889</td>\n",
       "      <td>Classics</td>\n",
       "      <td>R</td>\n",
       "      <td>4.99</td>\n",
       "      <td>4</td>\n",
       "      <td>2.0</td>\n",
       "      <td>4.99</td>\n",
       "      <td>2005-08-22 04:10:10</td>\n",
       "      <td>Japan</td>\n",
       "      <td>Hiroshima</td>\n",
       "      <td>8</td>\n",
       "    </tr>\n",
       "    <tr>\n",
       "      <th>4984</th>\n",
       "      <td>10104</td>\n",
       "      <td>Horror</td>\n",
       "      <td>G</td>\n",
       "      <td>0.99</td>\n",
       "      <td>4</td>\n",
       "      <td>5.0</td>\n",
       "      <td>1.99</td>\n",
       "      <td>2005-07-31 20:49:14</td>\n",
       "      <td>India</td>\n",
       "      <td>Haldia</td>\n",
       "      <td>7</td>\n",
       "    </tr>\n",
       "    <tr>\n",
       "      <th>9975</th>\n",
       "      <td>7422</td>\n",
       "      <td>Classics</td>\n",
       "      <td>G</td>\n",
       "      <td>0.99</td>\n",
       "      <td>5</td>\n",
       "      <td>7.0</td>\n",
       "      <td>2.99</td>\n",
       "      <td>2005-07-27 17:10:42</td>\n",
       "      <td>Nigeria</td>\n",
       "      <td>Effon-Alaiye</td>\n",
       "      <td>7</td>\n",
       "    </tr>\n",
       "  </tbody>\n",
       "</table>\n",
       "</div>"
      ],
      "text/plain": [
       "       rental_id   category rating  rental_rate  rental_duration  \\\n",
       "1268       12759     Sci-Fi     PG         2.99                3   \n",
       "2693       11672      Games      R         4.99                3   \n",
       "130           63   Children      G         0.99                3   \n",
       "11966      13761     Sports  PG-13         4.99                6   \n",
       "4122        5268  Animation  NC-17         0.99                4   \n",
       "10297       6229    Foreign     PG         2.99                5   \n",
       "12809       7062     Family      G         2.99                3   \n",
       "7373       14889   Classics      R         4.99                4   \n",
       "4984       10104     Horror      G         0.99                4   \n",
       "9975        7422   Classics      G         0.99                5   \n",
       "\n",
       "       rental_length_day  payment         rental_date             country  \\\n",
       "1268                 5.0     7.98 2006-02-14 15:16:03              Brazil   \n",
       "2693                 5.0     4.99 2006-02-14 15:16:03               China   \n",
       "130                  2.0     0.99 2005-05-25 09:19:16              Angola   \n",
       "11966                1.0     4.99 2005-08-20 11:28:50  Russian Federation   \n",
       "4122                 3.0     0.99 2005-07-09 14:22:43               Egypt   \n",
       "10297                9.0     6.99 2005-07-11 13:59:50            Pakistan   \n",
       "12809                7.0     6.99 2005-07-27 03:52:01               Spain   \n",
       "7373                 2.0     4.99 2005-08-22 04:10:10               Japan   \n",
       "4984                 5.0     1.99 2005-07-31 20:49:14               India   \n",
       "9975                 7.0     2.99 2005-07-27 17:10:42             Nigeria   \n",
       "\n",
       "                   city  month  \n",
       "1268         Santo Andr      2  \n",
       "2693            Yingkou      2  \n",
       "130              Namibe      5  \n",
       "11966            Kurgan      8  \n",
       "4122   Shubra al-Khayma      7  \n",
       "10297             Okara      7  \n",
       "12809  Ourense (Orense)      7  \n",
       "7373          Hiroshima      8  \n",
       "4984             Haldia      7  \n",
       "9975       Effon-Alaiye      7  "
      ]
     },
     "execution_count": 25,
     "metadata": {},
     "output_type": "execute_result"
    }
   ],
   "source": [
    "df_durcon.sample(10)"
   ]
  },
  {
   "cell_type": "markdown",
   "metadata": {},
   "source": [
    "## **General Info Cleaned Data**"
   ]
  },
  {
   "cell_type": "code",
   "execution_count": 26,
   "metadata": {},
   "outputs": [],
   "source": [
    "# Build a function to chect some info\n",
    "\n",
    "def table_info(DF):\n",
    "\n",
    "    listItem = []\n",
    "\n",
    "    for col in DF.columns:\n",
    "        listItem.append([col, DF[col].dtype, len(DF), DF[col].isna().sum(), round((DF[col].isna().sum()/len(DF[col]))*100,2),DF[col].nunique()])\n",
    "\n",
    "    DFDesc = pd.DataFrame(columns=['Column Name', 'Data Type', 'Data Count','Missing Value','Missing Value Percentage','Number of Unique'],data=listItem)\n",
    "\n",
    "    return DFDesc\n"
   ]
  },
  {
   "cell_type": "code",
   "execution_count": 27,
   "metadata": {},
   "outputs": [
    {
     "data": {
      "text/html": [
       "<div>\n",
       "<style scoped>\n",
       "    .dataframe tbody tr th:only-of-type {\n",
       "        vertical-align: middle;\n",
       "    }\n",
       "\n",
       "    .dataframe tbody tr th {\n",
       "        vertical-align: top;\n",
       "    }\n",
       "\n",
       "    .dataframe thead th {\n",
       "        text-align: right;\n",
       "    }\n",
       "</style>\n",
       "<table border=\"1\" class=\"dataframe\">\n",
       "  <thead>\n",
       "    <tr style=\"text-align: right;\">\n",
       "      <th></th>\n",
       "      <th>Column Name</th>\n",
       "      <th>Data Type</th>\n",
       "      <th>Data Count</th>\n",
       "      <th>Missing Value</th>\n",
       "      <th>Missing Value Percentage</th>\n",
       "      <th>Number of Unique</th>\n",
       "    </tr>\n",
       "  </thead>\n",
       "  <tbody>\n",
       "    <tr>\n",
       "      <th>0</th>\n",
       "      <td>inventory_id</td>\n",
       "      <td>int64</td>\n",
       "      <td>4581</td>\n",
       "      <td>0</td>\n",
       "      <td>0.0</td>\n",
       "      <td>4581</td>\n",
       "    </tr>\n",
       "    <tr>\n",
       "      <th>1</th>\n",
       "      <td>category</td>\n",
       "      <td>object</td>\n",
       "      <td>4581</td>\n",
       "      <td>0</td>\n",
       "      <td>0.0</td>\n",
       "      <td>16</td>\n",
       "    </tr>\n",
       "    <tr>\n",
       "      <th>2</th>\n",
       "      <td>title</td>\n",
       "      <td>object</td>\n",
       "      <td>4581</td>\n",
       "      <td>0</td>\n",
       "      <td>0.0</td>\n",
       "      <td>958</td>\n",
       "    </tr>\n",
       "    <tr>\n",
       "      <th>3</th>\n",
       "      <td>release_year</td>\n",
       "      <td>int64</td>\n",
       "      <td>4581</td>\n",
       "      <td>0</td>\n",
       "      <td>0.0</td>\n",
       "      <td>1</td>\n",
       "    </tr>\n",
       "    <tr>\n",
       "      <th>4</th>\n",
       "      <td>language</td>\n",
       "      <td>object</td>\n",
       "      <td>4581</td>\n",
       "      <td>0</td>\n",
       "      <td>0.0</td>\n",
       "      <td>1</td>\n",
       "    </tr>\n",
       "    <tr>\n",
       "      <th>5</th>\n",
       "      <td>length</td>\n",
       "      <td>int64</td>\n",
       "      <td>4581</td>\n",
       "      <td>0</td>\n",
       "      <td>0.0</td>\n",
       "      <td>140</td>\n",
       "    </tr>\n",
       "    <tr>\n",
       "      <th>6</th>\n",
       "      <td>rating</td>\n",
       "      <td>object</td>\n",
       "      <td>4581</td>\n",
       "      <td>0</td>\n",
       "      <td>0.0</td>\n",
       "      <td>5</td>\n",
       "    </tr>\n",
       "    <tr>\n",
       "      <th>7</th>\n",
       "      <td>rental_duration</td>\n",
       "      <td>int64</td>\n",
       "      <td>4581</td>\n",
       "      <td>0</td>\n",
       "      <td>0.0</td>\n",
       "      <td>5</td>\n",
       "    </tr>\n",
       "    <tr>\n",
       "      <th>8</th>\n",
       "      <td>rental_rate</td>\n",
       "      <td>float64</td>\n",
       "      <td>4581</td>\n",
       "      <td>0</td>\n",
       "      <td>0.0</td>\n",
       "      <td>3</td>\n",
       "    </tr>\n",
       "  </tbody>\n",
       "</table>\n",
       "</div>"
      ],
      "text/plain": [
       "       Column Name Data Type  Data Count  Missing Value  \\\n",
       "0     inventory_id     int64        4581              0   \n",
       "1         category    object        4581              0   \n",
       "2            title    object        4581              0   \n",
       "3     release_year     int64        4581              0   \n",
       "4         language    object        4581              0   \n",
       "5           length     int64        4581              0   \n",
       "6           rating    object        4581              0   \n",
       "7  rental_duration     int64        4581              0   \n",
       "8      rental_rate   float64        4581              0   \n",
       "\n",
       "   Missing Value Percentage  Number of Unique  \n",
       "0                       0.0              4581  \n",
       "1                       0.0                16  \n",
       "2                       0.0               958  \n",
       "3                       0.0                 1  \n",
       "4                       0.0                 1  \n",
       "5                       0.0               140  \n",
       "6                       0.0                 5  \n",
       "7                       0.0                 5  \n",
       "8                       0.0                 3  "
      ]
     },
     "execution_count": 27,
     "metadata": {},
     "output_type": "execute_result"
    }
   ],
   "source": [
    "# Check info on df_film\n",
    "\n",
    "table_info(df_film)"
   ]
  },
  {
   "cell_type": "code",
   "execution_count": 28,
   "metadata": {},
   "outputs": [
    {
     "data": {
      "text/html": [
       "<div>\n",
       "<style scoped>\n",
       "    .dataframe tbody tr th:only-of-type {\n",
       "        vertical-align: middle;\n",
       "    }\n",
       "\n",
       "    .dataframe tbody tr th {\n",
       "        vertical-align: top;\n",
       "    }\n",
       "\n",
       "    .dataframe thead th {\n",
       "        text-align: right;\n",
       "    }\n",
       "</style>\n",
       "<table border=\"1\" class=\"dataframe\">\n",
       "  <thead>\n",
       "    <tr style=\"text-align: right;\">\n",
       "      <th></th>\n",
       "      <th>Column Name</th>\n",
       "      <th>Data Type</th>\n",
       "      <th>Data Count</th>\n",
       "      <th>Missing Value</th>\n",
       "      <th>Missing Value Percentage</th>\n",
       "      <th>Number of Unique</th>\n",
       "    </tr>\n",
       "  </thead>\n",
       "  <tbody>\n",
       "    <tr>\n",
       "      <th>0</th>\n",
       "      <td>rental_id</td>\n",
       "      <td>int64</td>\n",
       "      <td>16044</td>\n",
       "      <td>0</td>\n",
       "      <td>0.0</td>\n",
       "      <td>16044</td>\n",
       "    </tr>\n",
       "    <tr>\n",
       "      <th>1</th>\n",
       "      <td>category</td>\n",
       "      <td>object</td>\n",
       "      <td>16044</td>\n",
       "      <td>0</td>\n",
       "      <td>0.0</td>\n",
       "      <td>16</td>\n",
       "    </tr>\n",
       "    <tr>\n",
       "      <th>2</th>\n",
       "      <td>rating</td>\n",
       "      <td>object</td>\n",
       "      <td>16044</td>\n",
       "      <td>0</td>\n",
       "      <td>0.0</td>\n",
       "      <td>5</td>\n",
       "    </tr>\n",
       "    <tr>\n",
       "      <th>3</th>\n",
       "      <td>rental_rate</td>\n",
       "      <td>float64</td>\n",
       "      <td>16044</td>\n",
       "      <td>0</td>\n",
       "      <td>0.0</td>\n",
       "      <td>3</td>\n",
       "    </tr>\n",
       "    <tr>\n",
       "      <th>4</th>\n",
       "      <td>rental_duration</td>\n",
       "      <td>int64</td>\n",
       "      <td>16044</td>\n",
       "      <td>0</td>\n",
       "      <td>0.0</td>\n",
       "      <td>5</td>\n",
       "    </tr>\n",
       "    <tr>\n",
       "      <th>5</th>\n",
       "      <td>rental_length_day</td>\n",
       "      <td>float64</td>\n",
       "      <td>16044</td>\n",
       "      <td>0</td>\n",
       "      <td>0.0</td>\n",
       "      <td>11</td>\n",
       "    </tr>\n",
       "    <tr>\n",
       "      <th>6</th>\n",
       "      <td>payment</td>\n",
       "      <td>float64</td>\n",
       "      <td>16044</td>\n",
       "      <td>0</td>\n",
       "      <td>0.0</td>\n",
       "      <td>19</td>\n",
       "    </tr>\n",
       "    <tr>\n",
       "      <th>7</th>\n",
       "      <td>rental_date</td>\n",
       "      <td>datetime64[ns]</td>\n",
       "      <td>16044</td>\n",
       "      <td>0</td>\n",
       "      <td>0.0</td>\n",
       "      <td>15815</td>\n",
       "    </tr>\n",
       "    <tr>\n",
       "      <th>8</th>\n",
       "      <td>country</td>\n",
       "      <td>object</td>\n",
       "      <td>16044</td>\n",
       "      <td>0</td>\n",
       "      <td>0.0</td>\n",
       "      <td>108</td>\n",
       "    </tr>\n",
       "    <tr>\n",
       "      <th>9</th>\n",
       "      <td>city</td>\n",
       "      <td>object</td>\n",
       "      <td>16044</td>\n",
       "      <td>0</td>\n",
       "      <td>0.0</td>\n",
       "      <td>597</td>\n",
       "    </tr>\n",
       "    <tr>\n",
       "      <th>10</th>\n",
       "      <td>month</td>\n",
       "      <td>int64</td>\n",
       "      <td>16044</td>\n",
       "      <td>0</td>\n",
       "      <td>0.0</td>\n",
       "      <td>5</td>\n",
       "    </tr>\n",
       "  </tbody>\n",
       "</table>\n",
       "</div>"
      ],
      "text/plain": [
       "          Column Name       Data Type  Data Count  Missing Value  \\\n",
       "0           rental_id           int64       16044              0   \n",
       "1            category          object       16044              0   \n",
       "2              rating          object       16044              0   \n",
       "3         rental_rate         float64       16044              0   \n",
       "4     rental_duration           int64       16044              0   \n",
       "5   rental_length_day         float64       16044              0   \n",
       "6             payment         float64       16044              0   \n",
       "7         rental_date  datetime64[ns]       16044              0   \n",
       "8             country          object       16044              0   \n",
       "9                city          object       16044              0   \n",
       "10              month           int64       16044              0   \n",
       "\n",
       "    Missing Value Percentage  Number of Unique  \n",
       "0                        0.0             16044  \n",
       "1                        0.0                16  \n",
       "2                        0.0                 5  \n",
       "3                        0.0                 3  \n",
       "4                        0.0                 5  \n",
       "5                        0.0                11  \n",
       "6                        0.0                19  \n",
       "7                        0.0             15815  \n",
       "8                        0.0               108  \n",
       "9                        0.0               597  \n",
       "10                       0.0                 5  "
      ]
     },
     "execution_count": 28,
     "metadata": {},
     "output_type": "execute_result"
    }
   ],
   "source": [
    "# Check info on df_durcon\n",
    "\n",
    "table_info(df_durcon)"
   ]
  },
  {
   "cell_type": "markdown",
   "metadata": {},
   "source": [
    "## **Grouping & Aggregating**"
   ]
  },
  {
   "cell_type": "markdown",
   "metadata": {},
   "source": [
    "We will see the basic information about the data (count of title, average rental rate, etc) by grouping and aggregating the tables."
   ]
  },
  {
   "cell_type": "markdown",
   "metadata": {},
   "source": [
    "### Count of Film title grouped by category and rating"
   ]
  },
  {
   "cell_type": "code",
   "execution_count": 29,
   "metadata": {},
   "outputs": [
    {
     "data": {
      "text/html": [
       "<div>\n",
       "<style scoped>\n",
       "    .dataframe tbody tr th:only-of-type {\n",
       "        vertical-align: middle;\n",
       "    }\n",
       "\n",
       "    .dataframe tbody tr th {\n",
       "        vertical-align: top;\n",
       "    }\n",
       "\n",
       "    .dataframe thead th {\n",
       "        text-align: right;\n",
       "    }\n",
       "</style>\n",
       "<table border=\"1\" class=\"dataframe\">\n",
       "  <thead>\n",
       "    <tr style=\"text-align: right;\">\n",
       "      <th>rating</th>\n",
       "      <th>G</th>\n",
       "      <th>NC-17</th>\n",
       "      <th>PG</th>\n",
       "      <th>PG-13</th>\n",
       "      <th>R</th>\n",
       "    </tr>\n",
       "    <tr>\n",
       "      <th>category</th>\n",
       "      <th></th>\n",
       "      <th></th>\n",
       "      <th></th>\n",
       "      <th></th>\n",
       "      <th></th>\n",
       "    </tr>\n",
       "  </thead>\n",
       "  <tbody>\n",
       "    <tr>\n",
       "      <th>Action</th>\n",
       "      <td>84</td>\n",
       "      <td>40</td>\n",
       "      <td>47</td>\n",
       "      <td>59</td>\n",
       "      <td>82</td>\n",
       "    </tr>\n",
       "    <tr>\n",
       "      <th>Animation</th>\n",
       "      <td>71</td>\n",
       "      <td>72</td>\n",
       "      <td>56</td>\n",
       "      <td>95</td>\n",
       "      <td>41</td>\n",
       "    </tr>\n",
       "    <tr>\n",
       "      <th>Children</th>\n",
       "      <td>48</td>\n",
       "      <td>60</td>\n",
       "      <td>54</td>\n",
       "      <td>60</td>\n",
       "      <td>47</td>\n",
       "    </tr>\n",
       "    <tr>\n",
       "      <th>Classics</th>\n",
       "      <td>52</td>\n",
       "      <td>45</td>\n",
       "      <td>47</td>\n",
       "      <td>63</td>\n",
       "      <td>63</td>\n",
       "    </tr>\n",
       "    <tr>\n",
       "      <th>Comedy</th>\n",
       "      <td>53</td>\n",
       "      <td>46</td>\n",
       "      <td>79</td>\n",
       "      <td>54</td>\n",
       "      <td>37</td>\n",
       "    </tr>\n",
       "    <tr>\n",
       "      <th>Documentary</th>\n",
       "      <td>55</td>\n",
       "      <td>58</td>\n",
       "      <td>82</td>\n",
       "      <td>38</td>\n",
       "      <td>61</td>\n",
       "    </tr>\n",
       "    <tr>\n",
       "      <th>Drama</th>\n",
       "      <td>53</td>\n",
       "      <td>82</td>\n",
       "      <td>35</td>\n",
       "      <td>104</td>\n",
       "      <td>26</td>\n",
       "    </tr>\n",
       "    <tr>\n",
       "      <th>Family</th>\n",
       "      <td>41</td>\n",
       "      <td>56</td>\n",
       "      <td>85</td>\n",
       "      <td>52</td>\n",
       "      <td>76</td>\n",
       "    </tr>\n",
       "    <tr>\n",
       "      <th>Foreign</th>\n",
       "      <td>51</td>\n",
       "      <td>44</td>\n",
       "      <td>61</td>\n",
       "      <td>86</td>\n",
       "      <td>58</td>\n",
       "    </tr>\n",
       "    <tr>\n",
       "      <th>Games</th>\n",
       "      <td>41</td>\n",
       "      <td>79</td>\n",
       "      <td>26</td>\n",
       "      <td>62</td>\n",
       "      <td>68</td>\n",
       "    </tr>\n",
       "    <tr>\n",
       "      <th>Horror</th>\n",
       "      <td>40</td>\n",
       "      <td>24</td>\n",
       "      <td>57</td>\n",
       "      <td>65</td>\n",
       "      <td>62</td>\n",
       "    </tr>\n",
       "    <tr>\n",
       "      <th>Music</th>\n",
       "      <td>5</td>\n",
       "      <td>103</td>\n",
       "      <td>44</td>\n",
       "      <td>29</td>\n",
       "      <td>51</td>\n",
       "    </tr>\n",
       "    <tr>\n",
       "      <th>New</th>\n",
       "      <td>58</td>\n",
       "      <td>80</td>\n",
       "      <td>40</td>\n",
       "      <td>61</td>\n",
       "      <td>36</td>\n",
       "    </tr>\n",
       "    <tr>\n",
       "      <th>Sci-Fi</th>\n",
       "      <td>52</td>\n",
       "      <td>43</td>\n",
       "      <td>68</td>\n",
       "      <td>68</td>\n",
       "      <td>81</td>\n",
       "    </tr>\n",
       "    <tr>\n",
       "      <th>Sports</th>\n",
       "      <td>49</td>\n",
       "      <td>75</td>\n",
       "      <td>77</td>\n",
       "      <td>72</td>\n",
       "      <td>71</td>\n",
       "    </tr>\n",
       "    <tr>\n",
       "      <th>Travel</th>\n",
       "      <td>38</td>\n",
       "      <td>37</td>\n",
       "      <td>66</td>\n",
       "      <td>50</td>\n",
       "      <td>44</td>\n",
       "    </tr>\n",
       "  </tbody>\n",
       "</table>\n",
       "</div>"
      ],
      "text/plain": [
       "rating        G  NC-17  PG  PG-13   R\n",
       "category                             \n",
       "Action       84     40  47     59  82\n",
       "Animation    71     72  56     95  41\n",
       "Children     48     60  54     60  47\n",
       "Classics     52     45  47     63  63\n",
       "Comedy       53     46  79     54  37\n",
       "Documentary  55     58  82     38  61\n",
       "Drama        53     82  35    104  26\n",
       "Family       41     56  85     52  76\n",
       "Foreign      51     44  61     86  58\n",
       "Games        41     79  26     62  68\n",
       "Horror       40     24  57     65  62\n",
       "Music         5    103  44     29  51\n",
       "New          58     80  40     61  36\n",
       "Sci-Fi       52     43  68     68  81\n",
       "Sports       49     75  77     72  71\n",
       "Travel       38     37  66     50  44"
      ]
     },
     "execution_count": 29,
     "metadata": {},
     "output_type": "execute_result"
    }
   ],
   "source": [
    "pd.pivot_table(data=df_film, index='category', columns='rating', values='inventory_id', aggfunc='count')"
   ]
  },
  {
   "cell_type": "markdown",
   "metadata": {},
   "source": [
    "### Average rental rate grouped by rating and rental_duration\n"
   ]
  },
  {
   "cell_type": "code",
   "execution_count": 30,
   "metadata": {},
   "outputs": [
    {
     "data": {
      "text/html": [
       "<div>\n",
       "<style scoped>\n",
       "    .dataframe tbody tr th:only-of-type {\n",
       "        vertical-align: middle;\n",
       "    }\n",
       "\n",
       "    .dataframe tbody tr th {\n",
       "        vertical-align: top;\n",
       "    }\n",
       "\n",
       "    .dataframe thead th {\n",
       "        text-align: right;\n",
       "    }\n",
       "</style>\n",
       "<table border=\"1\" class=\"dataframe\">\n",
       "  <thead>\n",
       "    <tr style=\"text-align: right;\">\n",
       "      <th>rental_duration</th>\n",
       "      <th>3</th>\n",
       "      <th>4</th>\n",
       "      <th>5</th>\n",
       "      <th>6</th>\n",
       "      <th>7</th>\n",
       "    </tr>\n",
       "    <tr>\n",
       "      <th>rating</th>\n",
       "      <th></th>\n",
       "      <th></th>\n",
       "      <th></th>\n",
       "      <th></th>\n",
       "      <th></th>\n",
       "    </tr>\n",
       "  </thead>\n",
       "  <tbody>\n",
       "    <tr>\n",
       "      <th>G</th>\n",
       "      <td>2.914051</td>\n",
       "      <td>2.541020</td>\n",
       "      <td>3.565000</td>\n",
       "      <td>2.542941</td>\n",
       "      <td>2.434444</td>\n",
       "    </tr>\n",
       "    <tr>\n",
       "      <th>NC-17</th>\n",
       "      <td>3.012099</td>\n",
       "      <td>3.033165</td>\n",
       "      <td>3.334828</td>\n",
       "      <td>2.925223</td>\n",
       "      <td>2.921034</td>\n",
       "    </tr>\n",
       "    <tr>\n",
       "      <th>PG</th>\n",
       "      <td>2.634444</td>\n",
       "      <td>3.175185</td>\n",
       "      <td>3.015478</td>\n",
       "      <td>2.724043</td>\n",
       "      <td>3.230437</td>\n",
       "    </tr>\n",
       "    <tr>\n",
       "      <th>PG-13</th>\n",
       "      <td>3.054516</td>\n",
       "      <td>2.561429</td>\n",
       "      <td>3.434444</td>\n",
       "      <td>3.035662</td>\n",
       "      <td>3.194301</td>\n",
       "    </tr>\n",
       "    <tr>\n",
       "      <th>R</th>\n",
       "      <td>2.304010</td>\n",
       "      <td>3.212222</td>\n",
       "      <td>2.757196</td>\n",
       "      <td>3.070645</td>\n",
       "      <td>2.919078</td>\n",
       "    </tr>\n",
       "  </tbody>\n",
       "</table>\n",
       "</div>"
      ],
      "text/plain": [
       "rental_duration         3         4         5         6         7\n",
       "rating                                                           \n",
       "G                2.914051  2.541020  3.565000  2.542941  2.434444\n",
       "NC-17            3.012099  3.033165  3.334828  2.925223  2.921034\n",
       "PG               2.634444  3.175185  3.015478  2.724043  3.230437\n",
       "PG-13            3.054516  2.561429  3.434444  3.035662  3.194301\n",
       "R                2.304010  3.212222  2.757196  3.070645  2.919078"
      ]
     },
     "execution_count": 30,
     "metadata": {},
     "output_type": "execute_result"
    }
   ],
   "source": [
    "pd.pivot_table(data=df_film, index='rating', columns='rental_duration', values='rental_rate', aggfunc='mean')"
   ]
  },
  {
   "cell_type": "markdown",
   "metadata": {},
   "source": [
    "### Total sales by category"
   ]
  },
  {
   "cell_type": "code",
   "execution_count": 31,
   "metadata": {},
   "outputs": [
    {
     "data": {
      "text/html": [
       "<div>\n",
       "<style scoped>\n",
       "    .dataframe tbody tr th:only-of-type {\n",
       "        vertical-align: middle;\n",
       "    }\n",
       "\n",
       "    .dataframe tbody tr th {\n",
       "        vertical-align: top;\n",
       "    }\n",
       "\n",
       "    .dataframe thead th {\n",
       "        text-align: right;\n",
       "    }\n",
       "</style>\n",
       "<table border=\"1\" class=\"dataframe\">\n",
       "  <thead>\n",
       "    <tr style=\"text-align: right;\">\n",
       "      <th></th>\n",
       "      <th>payment</th>\n",
       "    </tr>\n",
       "    <tr>\n",
       "      <th>category</th>\n",
       "      <th></th>\n",
       "    </tr>\n",
       "  </thead>\n",
       "  <tbody>\n",
       "    <tr>\n",
       "      <th>Sports</th>\n",
       "      <td>5314.21</td>\n",
       "    </tr>\n",
       "    <tr>\n",
       "      <th>Sci-Fi</th>\n",
       "      <td>4756.98</td>\n",
       "    </tr>\n",
       "    <tr>\n",
       "      <th>Animation</th>\n",
       "      <td>4656.30</td>\n",
       "    </tr>\n",
       "    <tr>\n",
       "      <th>Drama</th>\n",
       "      <td>4587.39</td>\n",
       "    </tr>\n",
       "    <tr>\n",
       "      <th>Comedy</th>\n",
       "      <td>4383.58</td>\n",
       "    </tr>\n",
       "    <tr>\n",
       "      <th>Action</th>\n",
       "      <td>4375.85</td>\n",
       "    </tr>\n",
       "    <tr>\n",
       "      <th>New</th>\n",
       "      <td>4351.62</td>\n",
       "    </tr>\n",
       "    <tr>\n",
       "      <th>Games</th>\n",
       "      <td>4281.33</td>\n",
       "    </tr>\n",
       "    <tr>\n",
       "      <th>Foreign</th>\n",
       "      <td>4270.67</td>\n",
       "    </tr>\n",
       "    <tr>\n",
       "      <th>Family</th>\n",
       "      <td>4226.07</td>\n",
       "    </tr>\n",
       "    <tr>\n",
       "      <th>Documentary</th>\n",
       "      <td>4217.52</td>\n",
       "    </tr>\n",
       "    <tr>\n",
       "      <th>Horror</th>\n",
       "      <td>3722.54</td>\n",
       "    </tr>\n",
       "    <tr>\n",
       "      <th>Children</th>\n",
       "      <td>3655.55</td>\n",
       "    </tr>\n",
       "    <tr>\n",
       "      <th>Classics</th>\n",
       "      <td>3639.59</td>\n",
       "    </tr>\n",
       "    <tr>\n",
       "      <th>Travel</th>\n",
       "      <td>3549.64</td>\n",
       "    </tr>\n",
       "    <tr>\n",
       "      <th>Music</th>\n",
       "      <td>3417.72</td>\n",
       "    </tr>\n",
       "  </tbody>\n",
       "</table>\n",
       "</div>"
      ],
      "text/plain": [
       "             payment\n",
       "category            \n",
       "Sports       5314.21\n",
       "Sci-Fi       4756.98\n",
       "Animation    4656.30\n",
       "Drama        4587.39\n",
       "Comedy       4383.58\n",
       "Action       4375.85\n",
       "New          4351.62\n",
       "Games        4281.33\n",
       "Foreign      4270.67\n",
       "Family       4226.07\n",
       "Documentary  4217.52\n",
       "Horror       3722.54\n",
       "Children     3655.55\n",
       "Classics     3639.59\n",
       "Travel       3549.64\n",
       "Music        3417.72"
      ]
     },
     "execution_count": 31,
     "metadata": {},
     "output_type": "execute_result"
    }
   ],
   "source": [
    "df_durcon.groupby('category')[['category','payment']].sum().sort_values(by='payment', ascending=False)"
   ]
  },
  {
   "cell_type": "markdown",
   "metadata": {},
   "source": [
    "### Total sales by rating"
   ]
  },
  {
   "cell_type": "code",
   "execution_count": 32,
   "metadata": {},
   "outputs": [
    {
     "data": {
      "text/html": [
       "<div>\n",
       "<style scoped>\n",
       "    .dataframe tbody tr th:only-of-type {\n",
       "        vertical-align: middle;\n",
       "    }\n",
       "\n",
       "    .dataframe tbody tr th {\n",
       "        vertical-align: top;\n",
       "    }\n",
       "\n",
       "    .dataframe thead th {\n",
       "        text-align: right;\n",
       "    }\n",
       "</style>\n",
       "<table border=\"1\" class=\"dataframe\">\n",
       "  <thead>\n",
       "    <tr style=\"text-align: right;\">\n",
       "      <th></th>\n",
       "      <th>payment</th>\n",
       "    </tr>\n",
       "    <tr>\n",
       "      <th>rating</th>\n",
       "      <th></th>\n",
       "    </tr>\n",
       "  </thead>\n",
       "  <tbody>\n",
       "    <tr>\n",
       "      <th>PG-13</th>\n",
       "      <td>15259.16</td>\n",
       "    </tr>\n",
       "    <tr>\n",
       "      <th>NC-17</th>\n",
       "      <td>13875.07</td>\n",
       "    </tr>\n",
       "    <tr>\n",
       "      <th>PG</th>\n",
       "      <td>13337.91</td>\n",
       "    </tr>\n",
       "    <tr>\n",
       "      <th>R</th>\n",
       "      <td>13270.19</td>\n",
       "    </tr>\n",
       "    <tr>\n",
       "      <th>G</th>\n",
       "      <td>11664.23</td>\n",
       "    </tr>\n",
       "  </tbody>\n",
       "</table>\n",
       "</div>"
      ],
      "text/plain": [
       "         payment\n",
       "rating          \n",
       "PG-13   15259.16\n",
       "NC-17   13875.07\n",
       "PG      13337.91\n",
       "R       13270.19\n",
       "G       11664.23"
      ]
     },
     "execution_count": 32,
     "metadata": {},
     "output_type": "execute_result"
    }
   ],
   "source": [
    "df_durcon.groupby('rating')[['rating','payment']].sum().sort_values(by='payment', ascending=False)"
   ]
  },
  {
   "cell_type": "markdown",
   "metadata": {},
   "source": [
    "### Total sales by country"
   ]
  },
  {
   "cell_type": "code",
   "execution_count": 33,
   "metadata": {},
   "outputs": [
    {
     "data": {
      "text/html": [
       "<div>\n",
       "<style scoped>\n",
       "    .dataframe tbody tr th:only-of-type {\n",
       "        vertical-align: middle;\n",
       "    }\n",
       "\n",
       "    .dataframe tbody tr th {\n",
       "        vertical-align: top;\n",
       "    }\n",
       "\n",
       "    .dataframe thead th {\n",
       "        text-align: right;\n",
       "    }\n",
       "</style>\n",
       "<table border=\"1\" class=\"dataframe\">\n",
       "  <thead>\n",
       "    <tr style=\"text-align: right;\">\n",
       "      <th></th>\n",
       "      <th>payment</th>\n",
       "    </tr>\n",
       "    <tr>\n",
       "      <th>country</th>\n",
       "      <th></th>\n",
       "    </tr>\n",
       "  </thead>\n",
       "  <tbody>\n",
       "    <tr>\n",
       "      <th>India</th>\n",
       "      <td>6628.28</td>\n",
       "    </tr>\n",
       "    <tr>\n",
       "      <th>China</th>\n",
       "      <td>5798.74</td>\n",
       "    </tr>\n",
       "    <tr>\n",
       "      <th>United States</th>\n",
       "      <td>4110.32</td>\n",
       "    </tr>\n",
       "    <tr>\n",
       "      <th>Japan</th>\n",
       "      <td>3470.75</td>\n",
       "    </tr>\n",
       "    <tr>\n",
       "      <th>Mexico</th>\n",
       "      <td>3307.04</td>\n",
       "    </tr>\n",
       "    <tr>\n",
       "      <th>...</th>\n",
       "      <td>...</td>\n",
       "    </tr>\n",
       "    <tr>\n",
       "      <th>Tunisia</th>\n",
       "      <td>78.77</td>\n",
       "    </tr>\n",
       "    <tr>\n",
       "      <th>Tonga</th>\n",
       "      <td>73.82</td>\n",
       "    </tr>\n",
       "    <tr>\n",
       "      <th>Lithuania</th>\n",
       "      <td>73.76</td>\n",
       "    </tr>\n",
       "    <tr>\n",
       "      <th>American Samoa</th>\n",
       "      <td>71.80</td>\n",
       "    </tr>\n",
       "    <tr>\n",
       "      <th>Afghanistan</th>\n",
       "      <td>67.82</td>\n",
       "    </tr>\n",
       "  </tbody>\n",
       "</table>\n",
       "<p>108 rows × 1 columns</p>\n",
       "</div>"
      ],
      "text/plain": [
       "                payment\n",
       "country                \n",
       "India           6628.28\n",
       "China           5798.74\n",
       "United States   4110.32\n",
       "Japan           3470.75\n",
       "Mexico          3307.04\n",
       "...                 ...\n",
       "Tunisia           78.77\n",
       "Tonga             73.82\n",
       "Lithuania         73.76\n",
       "American Samoa    71.80\n",
       "Afghanistan       67.82\n",
       "\n",
       "[108 rows x 1 columns]"
      ]
     },
     "execution_count": 33,
     "metadata": {},
     "output_type": "execute_result"
    }
   ],
   "source": [
    "df_durcon.groupby('country')[['country','payment']].sum().sort_values(by='payment', ascending=False)"
   ]
  },
  {
   "cell_type": "markdown",
   "metadata": {},
   "source": [
    "## **Data Outlier**\n",
    "\n",
    "We will check if there are outlier on rental_length_day (this is the actual rental day of the film). This variable only available on df_durcon."
   ]
  },
  {
   "cell_type": "code",
   "execution_count": 34,
   "metadata": {},
   "outputs": [
    {
     "data": {
      "text/plain": [
       "0"
      ]
     },
     "execution_count": 34,
     "metadata": {},
     "output_type": "execute_result"
    }
   ],
   "source": [
    "# Outlier with function\n",
    "\n",
    "Q1 = df_durcon['rental_length_day'].describe()['25%']\n",
    "Q3 = df_durcon['rental_length_day'].describe()['75%']\n",
    "iqr = Q3 - Q1 \n",
    "\n",
    "df_durcon[(df_durcon['rental_length_day'] < Q1 - (1.5 * iqr)) | (df_durcon['rental_length_day'] > Q3 + (1.5 * iqr))]['rental_length_day'].count()\n"
   ]
  },
  {
   "cell_type": "markdown",
   "metadata": {},
   "source": [
    "# **DATA VISUALIZATION AND STATISTICS**"
   ]
  },
  {
   "cell_type": "code",
   "execution_count": 35,
   "metadata": {},
   "outputs": [],
   "source": [
    "import plotly.express as px\n",
    "import matplotlib.pyplot as plt\n",
    "import seaborn as sns"
   ]
  },
  {
   "cell_type": "markdown",
   "metadata": {},
   "source": [
    "## Current film inventory and Highest contribution"
   ]
  },
  {
   "cell_type": "markdown",
   "metadata": {},
   "source": [
    "### Current film inventory"
   ]
  },
  {
   "cell_type": "code",
   "execution_count": 36,
   "metadata": {},
   "outputs": [
    {
     "data": {
      "text/html": [
       "<div>\n",
       "<style scoped>\n",
       "    .dataframe tbody tr th:only-of-type {\n",
       "        vertical-align: middle;\n",
       "    }\n",
       "\n",
       "    .dataframe tbody tr th {\n",
       "        vertical-align: top;\n",
       "    }\n",
       "\n",
       "    .dataframe thead th {\n",
       "        text-align: right;\n",
       "    }\n",
       "</style>\n",
       "<table border=\"1\" class=\"dataframe\">\n",
       "  <thead>\n",
       "    <tr style=\"text-align: right;\">\n",
       "      <th></th>\n",
       "      <th>category</th>\n",
       "      <th>count</th>\n",
       "    </tr>\n",
       "  </thead>\n",
       "  <tbody>\n",
       "    <tr>\n",
       "      <th>0</th>\n",
       "      <td>Travel</td>\n",
       "      <td>312</td>\n",
       "    </tr>\n",
       "    <tr>\n",
       "      <th>1</th>\n",
       "      <td>Sports</td>\n",
       "      <td>335</td>\n",
       "    </tr>\n",
       "    <tr>\n",
       "      <th>2</th>\n",
       "      <td>Sci-Fi</td>\n",
       "      <td>269</td>\n",
       "    </tr>\n",
       "    <tr>\n",
       "      <th>3</th>\n",
       "      <td>New</td>\n",
       "      <td>270</td>\n",
       "    </tr>\n",
       "    <tr>\n",
       "      <th>4</th>\n",
       "      <td>Music</td>\n",
       "      <td>269</td>\n",
       "    </tr>\n",
       "    <tr>\n",
       "      <th>5</th>\n",
       "      <td>Horror</td>\n",
       "      <td>294</td>\n",
       "    </tr>\n",
       "    <tr>\n",
       "      <th>6</th>\n",
       "      <td>Games</td>\n",
       "      <td>300</td>\n",
       "    </tr>\n",
       "    <tr>\n",
       "      <th>7</th>\n",
       "      <td>Foreign</td>\n",
       "      <td>310</td>\n",
       "    </tr>\n",
       "    <tr>\n",
       "      <th>8</th>\n",
       "      <td>Family</td>\n",
       "      <td>300</td>\n",
       "    </tr>\n",
       "    <tr>\n",
       "      <th>9</th>\n",
       "      <td>Drama</td>\n",
       "      <td>276</td>\n",
       "    </tr>\n",
       "    <tr>\n",
       "      <th>10</th>\n",
       "      <td>Documentary</td>\n",
       "      <td>248</td>\n",
       "    </tr>\n",
       "    <tr>\n",
       "      <th>11</th>\n",
       "      <td>Comedy</td>\n",
       "      <td>232</td>\n",
       "    </tr>\n",
       "    <tr>\n",
       "      <th>12</th>\n",
       "      <td>Classics</td>\n",
       "      <td>275</td>\n",
       "    </tr>\n",
       "    <tr>\n",
       "      <th>13</th>\n",
       "      <td>Children</td>\n",
       "      <td>312</td>\n",
       "    </tr>\n",
       "    <tr>\n",
       "      <th>14</th>\n",
       "      <td>Animation</td>\n",
       "      <td>344</td>\n",
       "    </tr>\n",
       "    <tr>\n",
       "      <th>15</th>\n",
       "      <td>Action</td>\n",
       "      <td>235</td>\n",
       "    </tr>\n",
       "  </tbody>\n",
       "</table>\n",
       "</div>"
      ],
      "text/plain": [
       "       category  count\n",
       "0        Travel    312\n",
       "1        Sports    335\n",
       "2        Sci-Fi    269\n",
       "3           New    270\n",
       "4         Music    269\n",
       "5        Horror    294\n",
       "6         Games    300\n",
       "7       Foreign    310\n",
       "8        Family    300\n",
       "9         Drama    276\n",
       "10  Documentary    248\n",
       "11       Comedy    232\n",
       "12     Classics    275\n",
       "13     Children    312\n",
       "14    Animation    344\n",
       "15       Action    235"
      ]
     },
     "execution_count": 36,
     "metadata": {},
     "output_type": "execute_result"
    }
   ],
   "source": [
    "# Make dataframe for the chart (count aggregate)\n",
    "\n",
    "fig1_df = pd.DataFrame()\n",
    "\n",
    "fig1_df['category'] = df_film['category'].unique()\n",
    "fig1_df['count'] = list(df_film.groupby('category')['category'].aggregate('count'))\n",
    "\n",
    "fig1_df"
   ]
  },
  {
   "cell_type": "code",
   "execution_count": 37,
   "metadata": {},
   "outputs": [
    {
     "data": {
      "application/vnd.plotly.v1+json": {
       "config": {
        "plotlyServerURL": "https://plot.ly"
       },
       "data": [
        {
         "alignmentgroup": "True",
         "hovertemplate": "count=%{x}<br>category=%{y}<extra></extra>",
         "legendgroup": "",
         "marker": {
          "color": "green",
          "pattern": {
           "shape": ""
          }
         },
         "name": "",
         "offsetgroup": "",
         "orientation": "h",
         "showlegend": false,
         "textposition": "auto",
         "type": "bar",
         "x": [
          312,
          335,
          269,
          270,
          269,
          294,
          300,
          310,
          300,
          276,
          248,
          232,
          275,
          312,
          344,
          235
         ],
         "xaxis": "x",
         "y": [
          "Travel",
          "Sports",
          "Sci-Fi",
          "New",
          "Music",
          "Horror",
          "Games",
          "Foreign",
          "Family",
          "Drama",
          "Documentary",
          "Comedy",
          "Classics",
          "Children",
          "Animation",
          "Action"
         ],
         "yaxis": "y"
        }
       ],
       "layout": {
        "barmode": "stack",
        "height": 500,
        "legend": {
         "tracegroupgap": 0
        },
        "template": {
         "data": {
          "bar": [
           {
            "error_x": {
             "color": "#2a3f5f"
            },
            "error_y": {
             "color": "#2a3f5f"
            },
            "marker": {
             "line": {
              "color": "#E5ECF6",
              "width": 0.5
             },
             "pattern": {
              "fillmode": "overlay",
              "size": 10,
              "solidity": 0.2
             }
            },
            "type": "bar"
           }
          ],
          "barpolar": [
           {
            "marker": {
             "line": {
              "color": "#E5ECF6",
              "width": 0.5
             },
             "pattern": {
              "fillmode": "overlay",
              "size": 10,
              "solidity": 0.2
             }
            },
            "type": "barpolar"
           }
          ],
          "carpet": [
           {
            "aaxis": {
             "endlinecolor": "#2a3f5f",
             "gridcolor": "white",
             "linecolor": "white",
             "minorgridcolor": "white",
             "startlinecolor": "#2a3f5f"
            },
            "baxis": {
             "endlinecolor": "#2a3f5f",
             "gridcolor": "white",
             "linecolor": "white",
             "minorgridcolor": "white",
             "startlinecolor": "#2a3f5f"
            },
            "type": "carpet"
           }
          ],
          "choropleth": [
           {
            "colorbar": {
             "outlinewidth": 0,
             "ticks": ""
            },
            "type": "choropleth"
           }
          ],
          "contour": [
           {
            "colorbar": {
             "outlinewidth": 0,
             "ticks": ""
            },
            "colorscale": [
             [
              0,
              "#0d0887"
             ],
             [
              0.1111111111111111,
              "#46039f"
             ],
             [
              0.2222222222222222,
              "#7201a8"
             ],
             [
              0.3333333333333333,
              "#9c179e"
             ],
             [
              0.4444444444444444,
              "#bd3786"
             ],
             [
              0.5555555555555556,
              "#d8576b"
             ],
             [
              0.6666666666666666,
              "#ed7953"
             ],
             [
              0.7777777777777778,
              "#fb9f3a"
             ],
             [
              0.8888888888888888,
              "#fdca26"
             ],
             [
              1,
              "#f0f921"
             ]
            ],
            "type": "contour"
           }
          ],
          "contourcarpet": [
           {
            "colorbar": {
             "outlinewidth": 0,
             "ticks": ""
            },
            "type": "contourcarpet"
           }
          ],
          "heatmap": [
           {
            "colorbar": {
             "outlinewidth": 0,
             "ticks": ""
            },
            "colorscale": [
             [
              0,
              "#0d0887"
             ],
             [
              0.1111111111111111,
              "#46039f"
             ],
             [
              0.2222222222222222,
              "#7201a8"
             ],
             [
              0.3333333333333333,
              "#9c179e"
             ],
             [
              0.4444444444444444,
              "#bd3786"
             ],
             [
              0.5555555555555556,
              "#d8576b"
             ],
             [
              0.6666666666666666,
              "#ed7953"
             ],
             [
              0.7777777777777778,
              "#fb9f3a"
             ],
             [
              0.8888888888888888,
              "#fdca26"
             ],
             [
              1,
              "#f0f921"
             ]
            ],
            "type": "heatmap"
           }
          ],
          "heatmapgl": [
           {
            "colorbar": {
             "outlinewidth": 0,
             "ticks": ""
            },
            "colorscale": [
             [
              0,
              "#0d0887"
             ],
             [
              0.1111111111111111,
              "#46039f"
             ],
             [
              0.2222222222222222,
              "#7201a8"
             ],
             [
              0.3333333333333333,
              "#9c179e"
             ],
             [
              0.4444444444444444,
              "#bd3786"
             ],
             [
              0.5555555555555556,
              "#d8576b"
             ],
             [
              0.6666666666666666,
              "#ed7953"
             ],
             [
              0.7777777777777778,
              "#fb9f3a"
             ],
             [
              0.8888888888888888,
              "#fdca26"
             ],
             [
              1,
              "#f0f921"
             ]
            ],
            "type": "heatmapgl"
           }
          ],
          "histogram": [
           {
            "marker": {
             "pattern": {
              "fillmode": "overlay",
              "size": 10,
              "solidity": 0.2
             }
            },
            "type": "histogram"
           }
          ],
          "histogram2d": [
           {
            "colorbar": {
             "outlinewidth": 0,
             "ticks": ""
            },
            "colorscale": [
             [
              0,
              "#0d0887"
             ],
             [
              0.1111111111111111,
              "#46039f"
             ],
             [
              0.2222222222222222,
              "#7201a8"
             ],
             [
              0.3333333333333333,
              "#9c179e"
             ],
             [
              0.4444444444444444,
              "#bd3786"
             ],
             [
              0.5555555555555556,
              "#d8576b"
             ],
             [
              0.6666666666666666,
              "#ed7953"
             ],
             [
              0.7777777777777778,
              "#fb9f3a"
             ],
             [
              0.8888888888888888,
              "#fdca26"
             ],
             [
              1,
              "#f0f921"
             ]
            ],
            "type": "histogram2d"
           }
          ],
          "histogram2dcontour": [
           {
            "colorbar": {
             "outlinewidth": 0,
             "ticks": ""
            },
            "colorscale": [
             [
              0,
              "#0d0887"
             ],
             [
              0.1111111111111111,
              "#46039f"
             ],
             [
              0.2222222222222222,
              "#7201a8"
             ],
             [
              0.3333333333333333,
              "#9c179e"
             ],
             [
              0.4444444444444444,
              "#bd3786"
             ],
             [
              0.5555555555555556,
              "#d8576b"
             ],
             [
              0.6666666666666666,
              "#ed7953"
             ],
             [
              0.7777777777777778,
              "#fb9f3a"
             ],
             [
              0.8888888888888888,
              "#fdca26"
             ],
             [
              1,
              "#f0f921"
             ]
            ],
            "type": "histogram2dcontour"
           }
          ],
          "mesh3d": [
           {
            "colorbar": {
             "outlinewidth": 0,
             "ticks": ""
            },
            "type": "mesh3d"
           }
          ],
          "parcoords": [
           {
            "line": {
             "colorbar": {
              "outlinewidth": 0,
              "ticks": ""
             }
            },
            "type": "parcoords"
           }
          ],
          "pie": [
           {
            "automargin": true,
            "type": "pie"
           }
          ],
          "scatter": [
           {
            "marker": {
             "colorbar": {
              "outlinewidth": 0,
              "ticks": ""
             }
            },
            "type": "scatter"
           }
          ],
          "scatter3d": [
           {
            "line": {
             "colorbar": {
              "outlinewidth": 0,
              "ticks": ""
             }
            },
            "marker": {
             "colorbar": {
              "outlinewidth": 0,
              "ticks": ""
             }
            },
            "type": "scatter3d"
           }
          ],
          "scattercarpet": [
           {
            "marker": {
             "colorbar": {
              "outlinewidth": 0,
              "ticks": ""
             }
            },
            "type": "scattercarpet"
           }
          ],
          "scattergeo": [
           {
            "marker": {
             "colorbar": {
              "outlinewidth": 0,
              "ticks": ""
             }
            },
            "type": "scattergeo"
           }
          ],
          "scattergl": [
           {
            "marker": {
             "colorbar": {
              "outlinewidth": 0,
              "ticks": ""
             }
            },
            "type": "scattergl"
           }
          ],
          "scattermapbox": [
           {
            "marker": {
             "colorbar": {
              "outlinewidth": 0,
              "ticks": ""
             }
            },
            "type": "scattermapbox"
           }
          ],
          "scatterpolar": [
           {
            "marker": {
             "colorbar": {
              "outlinewidth": 0,
              "ticks": ""
             }
            },
            "type": "scatterpolar"
           }
          ],
          "scatterpolargl": [
           {
            "marker": {
             "colorbar": {
              "outlinewidth": 0,
              "ticks": ""
             }
            },
            "type": "scatterpolargl"
           }
          ],
          "scatterternary": [
           {
            "marker": {
             "colorbar": {
              "outlinewidth": 0,
              "ticks": ""
             }
            },
            "type": "scatterternary"
           }
          ],
          "surface": [
           {
            "colorbar": {
             "outlinewidth": 0,
             "ticks": ""
            },
            "colorscale": [
             [
              0,
              "#0d0887"
             ],
             [
              0.1111111111111111,
              "#46039f"
             ],
             [
              0.2222222222222222,
              "#7201a8"
             ],
             [
              0.3333333333333333,
              "#9c179e"
             ],
             [
              0.4444444444444444,
              "#bd3786"
             ],
             [
              0.5555555555555556,
              "#d8576b"
             ],
             [
              0.6666666666666666,
              "#ed7953"
             ],
             [
              0.7777777777777778,
              "#fb9f3a"
             ],
             [
              0.8888888888888888,
              "#fdca26"
             ],
             [
              1,
              "#f0f921"
             ]
            ],
            "type": "surface"
           }
          ],
          "table": [
           {
            "cells": {
             "fill": {
              "color": "#EBF0F8"
             },
             "line": {
              "color": "white"
             }
            },
            "header": {
             "fill": {
              "color": "#C8D4E3"
             },
             "line": {
              "color": "white"
             }
            },
            "type": "table"
           }
          ]
         },
         "layout": {
          "annotationdefaults": {
           "arrowcolor": "#2a3f5f",
           "arrowhead": 0,
           "arrowwidth": 1
          },
          "autotypenumbers": "strict",
          "coloraxis": {
           "colorbar": {
            "outlinewidth": 0,
            "ticks": ""
           }
          },
          "colorscale": {
           "diverging": [
            [
             0,
             "#8e0152"
            ],
            [
             0.1,
             "#c51b7d"
            ],
            [
             0.2,
             "#de77ae"
            ],
            [
             0.3,
             "#f1b6da"
            ],
            [
             0.4,
             "#fde0ef"
            ],
            [
             0.5,
             "#f7f7f7"
            ],
            [
             0.6,
             "#e6f5d0"
            ],
            [
             0.7,
             "#b8e186"
            ],
            [
             0.8,
             "#7fbc41"
            ],
            [
             0.9,
             "#4d9221"
            ],
            [
             1,
             "#276419"
            ]
           ],
           "sequential": [
            [
             0,
             "#0d0887"
            ],
            [
             0.1111111111111111,
             "#46039f"
            ],
            [
             0.2222222222222222,
             "#7201a8"
            ],
            [
             0.3333333333333333,
             "#9c179e"
            ],
            [
             0.4444444444444444,
             "#bd3786"
            ],
            [
             0.5555555555555556,
             "#d8576b"
            ],
            [
             0.6666666666666666,
             "#ed7953"
            ],
            [
             0.7777777777777778,
             "#fb9f3a"
            ],
            [
             0.8888888888888888,
             "#fdca26"
            ],
            [
             1,
             "#f0f921"
            ]
           ],
           "sequentialminus": [
            [
             0,
             "#0d0887"
            ],
            [
             0.1111111111111111,
             "#46039f"
            ],
            [
             0.2222222222222222,
             "#7201a8"
            ],
            [
             0.3333333333333333,
             "#9c179e"
            ],
            [
             0.4444444444444444,
             "#bd3786"
            ],
            [
             0.5555555555555556,
             "#d8576b"
            ],
            [
             0.6666666666666666,
             "#ed7953"
            ],
            [
             0.7777777777777778,
             "#fb9f3a"
            ],
            [
             0.8888888888888888,
             "#fdca26"
            ],
            [
             1,
             "#f0f921"
            ]
           ]
          },
          "colorway": [
           "#636efa",
           "#EF553B",
           "#00cc96",
           "#ab63fa",
           "#FFA15A",
           "#19d3f3",
           "#FF6692",
           "#B6E880",
           "#FF97FF",
           "#FECB52"
          ],
          "font": {
           "color": "#2a3f5f"
          },
          "geo": {
           "bgcolor": "white",
           "lakecolor": "white",
           "landcolor": "#E5ECF6",
           "showlakes": true,
           "showland": true,
           "subunitcolor": "white"
          },
          "hoverlabel": {
           "align": "left"
          },
          "hovermode": "closest",
          "mapbox": {
           "style": "light"
          },
          "paper_bgcolor": "white",
          "plot_bgcolor": "#E5ECF6",
          "polar": {
           "angularaxis": {
            "gridcolor": "white",
            "linecolor": "white",
            "ticks": ""
           },
           "bgcolor": "#E5ECF6",
           "radialaxis": {
            "gridcolor": "white",
            "linecolor": "white",
            "ticks": ""
           }
          },
          "scene": {
           "xaxis": {
            "backgroundcolor": "#E5ECF6",
            "gridcolor": "white",
            "gridwidth": 2,
            "linecolor": "white",
            "showbackground": true,
            "ticks": "",
            "zerolinecolor": "white"
           },
           "yaxis": {
            "backgroundcolor": "#E5ECF6",
            "gridcolor": "white",
            "gridwidth": 2,
            "linecolor": "white",
            "showbackground": true,
            "ticks": "",
            "zerolinecolor": "white"
           },
           "zaxis": {
            "backgroundcolor": "#E5ECF6",
            "gridcolor": "white",
            "gridwidth": 2,
            "linecolor": "white",
            "showbackground": true,
            "ticks": "",
            "zerolinecolor": "white"
           }
          },
          "shapedefaults": {
           "line": {
            "color": "#2a3f5f"
           }
          },
          "ternary": {
           "aaxis": {
            "gridcolor": "white",
            "linecolor": "white",
            "ticks": ""
           },
           "baxis": {
            "gridcolor": "white",
            "linecolor": "white",
            "ticks": ""
           },
           "bgcolor": "#E5ECF6",
           "caxis": {
            "gridcolor": "white",
            "linecolor": "white",
            "ticks": ""
           }
          },
          "title": {
           "x": 0.05
          },
          "xaxis": {
           "automargin": true,
           "gridcolor": "white",
           "linecolor": "white",
           "ticks": "",
           "title": {
            "standoff": 15
           },
           "zerolinecolor": "white",
           "zerolinewidth": 2
          },
          "yaxis": {
           "automargin": true,
           "gridcolor": "white",
           "linecolor": "white",
           "ticks": "",
           "title": {
            "standoff": 15
           },
           "zerolinecolor": "white",
           "zerolinewidth": 2
          }
         }
        },
        "title": {
         "text": "Current Film Inventory"
        },
        "xaxis": {
         "anchor": "y",
         "domain": [
          0,
          1
         ],
         "title": {
          "text": "count"
         }
        },
        "yaxis": {
         "anchor": "x",
         "categoryorder": "total ascending",
         "domain": [
          0,
          1
         ],
         "title": {
          "text": "category"
         }
        }
       }
      }
     },
     "metadata": {},
     "output_type": "display_data"
    }
   ],
   "source": [
    "fig1 = px.bar(  fig1_df, \n",
    "                y='category',\n",
    "                x = 'count', \n",
    "                orientation='h', \n",
    "                title = 'Current Film Inventory',\n",
    "                height=500,\n",
    "                color_discrete_sequence=['green'])\n",
    "\n",
    "fig1.update_layout(barmode='stack', yaxis ={'categoryorder':'total ascending'})\n",
    "\n",
    "fig1.show()"
   ]
  },
  {
   "cell_type": "markdown",
   "metadata": {},
   "source": [
    "From the chart above, we can conclude that the top 5 of our film inventory are Sports, Animation, Sci-Fi, Action, and Family."
   ]
  },
  {
   "cell_type": "markdown",
   "metadata": {},
   "source": [
    "### Highest contributors"
   ]
  },
  {
   "cell_type": "code",
   "execution_count": 38,
   "metadata": {},
   "outputs": [
    {
     "data": {
      "application/vnd.plotly.v1+json": {
       "config": {
        "plotlyServerURL": "https://plot.ly"
       },
       "data": [
        {
         "alignmentgroup": "True",
         "hovertemplate": "variable=payment<br>value=%{x}<br>category=%{y}<extra></extra>",
         "legendgroup": "payment",
         "marker": {
          "color": "#636efa",
          "pattern": {
           "shape": ""
          }
         },
         "name": "payment",
         "offsetgroup": "payment",
         "orientation": "h",
         "showlegend": true,
         "textposition": "auto",
         "type": "bar",
         "x": [
          5314.21,
          4756.9800000000005,
          4656.3,
          4587.39,
          4383.58,
          4375.85,
          4351.62,
          4281.33,
          4270.67,
          4226.070000000001,
          4217.52,
          3722.54,
          3655.55,
          3639.59,
          3549.6400000000003,
          3417.7200000000003
         ],
         "xaxis": "x",
         "y": [
          "Sports",
          "Sci-Fi",
          "Animation",
          "Drama",
          "Comedy",
          "Action",
          "New",
          "Games",
          "Foreign",
          "Family",
          "Documentary",
          "Horror",
          "Children",
          "Classics",
          "Travel",
          "Music"
         ],
         "yaxis": "y"
        }
       ],
       "layout": {
        "barmode": "relative",
        "height": 500,
        "legend": {
         "title": {
          "text": "variable"
         },
         "tracegroupgap": 0
        },
        "template": {
         "data": {
          "bar": [
           {
            "error_x": {
             "color": "#2a3f5f"
            },
            "error_y": {
             "color": "#2a3f5f"
            },
            "marker": {
             "line": {
              "color": "#E5ECF6",
              "width": 0.5
             },
             "pattern": {
              "fillmode": "overlay",
              "size": 10,
              "solidity": 0.2
             }
            },
            "type": "bar"
           }
          ],
          "barpolar": [
           {
            "marker": {
             "line": {
              "color": "#E5ECF6",
              "width": 0.5
             },
             "pattern": {
              "fillmode": "overlay",
              "size": 10,
              "solidity": 0.2
             }
            },
            "type": "barpolar"
           }
          ],
          "carpet": [
           {
            "aaxis": {
             "endlinecolor": "#2a3f5f",
             "gridcolor": "white",
             "linecolor": "white",
             "minorgridcolor": "white",
             "startlinecolor": "#2a3f5f"
            },
            "baxis": {
             "endlinecolor": "#2a3f5f",
             "gridcolor": "white",
             "linecolor": "white",
             "minorgridcolor": "white",
             "startlinecolor": "#2a3f5f"
            },
            "type": "carpet"
           }
          ],
          "choropleth": [
           {
            "colorbar": {
             "outlinewidth": 0,
             "ticks": ""
            },
            "type": "choropleth"
           }
          ],
          "contour": [
           {
            "colorbar": {
             "outlinewidth": 0,
             "ticks": ""
            },
            "colorscale": [
             [
              0,
              "#0d0887"
             ],
             [
              0.1111111111111111,
              "#46039f"
             ],
             [
              0.2222222222222222,
              "#7201a8"
             ],
             [
              0.3333333333333333,
              "#9c179e"
             ],
             [
              0.4444444444444444,
              "#bd3786"
             ],
             [
              0.5555555555555556,
              "#d8576b"
             ],
             [
              0.6666666666666666,
              "#ed7953"
             ],
             [
              0.7777777777777778,
              "#fb9f3a"
             ],
             [
              0.8888888888888888,
              "#fdca26"
             ],
             [
              1,
              "#f0f921"
             ]
            ],
            "type": "contour"
           }
          ],
          "contourcarpet": [
           {
            "colorbar": {
             "outlinewidth": 0,
             "ticks": ""
            },
            "type": "contourcarpet"
           }
          ],
          "heatmap": [
           {
            "colorbar": {
             "outlinewidth": 0,
             "ticks": ""
            },
            "colorscale": [
             [
              0,
              "#0d0887"
             ],
             [
              0.1111111111111111,
              "#46039f"
             ],
             [
              0.2222222222222222,
              "#7201a8"
             ],
             [
              0.3333333333333333,
              "#9c179e"
             ],
             [
              0.4444444444444444,
              "#bd3786"
             ],
             [
              0.5555555555555556,
              "#d8576b"
             ],
             [
              0.6666666666666666,
              "#ed7953"
             ],
             [
              0.7777777777777778,
              "#fb9f3a"
             ],
             [
              0.8888888888888888,
              "#fdca26"
             ],
             [
              1,
              "#f0f921"
             ]
            ],
            "type": "heatmap"
           }
          ],
          "heatmapgl": [
           {
            "colorbar": {
             "outlinewidth": 0,
             "ticks": ""
            },
            "colorscale": [
             [
              0,
              "#0d0887"
             ],
             [
              0.1111111111111111,
              "#46039f"
             ],
             [
              0.2222222222222222,
              "#7201a8"
             ],
             [
              0.3333333333333333,
              "#9c179e"
             ],
             [
              0.4444444444444444,
              "#bd3786"
             ],
             [
              0.5555555555555556,
              "#d8576b"
             ],
             [
              0.6666666666666666,
              "#ed7953"
             ],
             [
              0.7777777777777778,
              "#fb9f3a"
             ],
             [
              0.8888888888888888,
              "#fdca26"
             ],
             [
              1,
              "#f0f921"
             ]
            ],
            "type": "heatmapgl"
           }
          ],
          "histogram": [
           {
            "marker": {
             "pattern": {
              "fillmode": "overlay",
              "size": 10,
              "solidity": 0.2
             }
            },
            "type": "histogram"
           }
          ],
          "histogram2d": [
           {
            "colorbar": {
             "outlinewidth": 0,
             "ticks": ""
            },
            "colorscale": [
             [
              0,
              "#0d0887"
             ],
             [
              0.1111111111111111,
              "#46039f"
             ],
             [
              0.2222222222222222,
              "#7201a8"
             ],
             [
              0.3333333333333333,
              "#9c179e"
             ],
             [
              0.4444444444444444,
              "#bd3786"
             ],
             [
              0.5555555555555556,
              "#d8576b"
             ],
             [
              0.6666666666666666,
              "#ed7953"
             ],
             [
              0.7777777777777778,
              "#fb9f3a"
             ],
             [
              0.8888888888888888,
              "#fdca26"
             ],
             [
              1,
              "#f0f921"
             ]
            ],
            "type": "histogram2d"
           }
          ],
          "histogram2dcontour": [
           {
            "colorbar": {
             "outlinewidth": 0,
             "ticks": ""
            },
            "colorscale": [
             [
              0,
              "#0d0887"
             ],
             [
              0.1111111111111111,
              "#46039f"
             ],
             [
              0.2222222222222222,
              "#7201a8"
             ],
             [
              0.3333333333333333,
              "#9c179e"
             ],
             [
              0.4444444444444444,
              "#bd3786"
             ],
             [
              0.5555555555555556,
              "#d8576b"
             ],
             [
              0.6666666666666666,
              "#ed7953"
             ],
             [
              0.7777777777777778,
              "#fb9f3a"
             ],
             [
              0.8888888888888888,
              "#fdca26"
             ],
             [
              1,
              "#f0f921"
             ]
            ],
            "type": "histogram2dcontour"
           }
          ],
          "mesh3d": [
           {
            "colorbar": {
             "outlinewidth": 0,
             "ticks": ""
            },
            "type": "mesh3d"
           }
          ],
          "parcoords": [
           {
            "line": {
             "colorbar": {
              "outlinewidth": 0,
              "ticks": ""
             }
            },
            "type": "parcoords"
           }
          ],
          "pie": [
           {
            "automargin": true,
            "type": "pie"
           }
          ],
          "scatter": [
           {
            "marker": {
             "colorbar": {
              "outlinewidth": 0,
              "ticks": ""
             }
            },
            "type": "scatter"
           }
          ],
          "scatter3d": [
           {
            "line": {
             "colorbar": {
              "outlinewidth": 0,
              "ticks": ""
             }
            },
            "marker": {
             "colorbar": {
              "outlinewidth": 0,
              "ticks": ""
             }
            },
            "type": "scatter3d"
           }
          ],
          "scattercarpet": [
           {
            "marker": {
             "colorbar": {
              "outlinewidth": 0,
              "ticks": ""
             }
            },
            "type": "scattercarpet"
           }
          ],
          "scattergeo": [
           {
            "marker": {
             "colorbar": {
              "outlinewidth": 0,
              "ticks": ""
             }
            },
            "type": "scattergeo"
           }
          ],
          "scattergl": [
           {
            "marker": {
             "colorbar": {
              "outlinewidth": 0,
              "ticks": ""
             }
            },
            "type": "scattergl"
           }
          ],
          "scattermapbox": [
           {
            "marker": {
             "colorbar": {
              "outlinewidth": 0,
              "ticks": ""
             }
            },
            "type": "scattermapbox"
           }
          ],
          "scatterpolar": [
           {
            "marker": {
             "colorbar": {
              "outlinewidth": 0,
              "ticks": ""
             }
            },
            "type": "scatterpolar"
           }
          ],
          "scatterpolargl": [
           {
            "marker": {
             "colorbar": {
              "outlinewidth": 0,
              "ticks": ""
             }
            },
            "type": "scatterpolargl"
           }
          ],
          "scatterternary": [
           {
            "marker": {
             "colorbar": {
              "outlinewidth": 0,
              "ticks": ""
             }
            },
            "type": "scatterternary"
           }
          ],
          "surface": [
           {
            "colorbar": {
             "outlinewidth": 0,
             "ticks": ""
            },
            "colorscale": [
             [
              0,
              "#0d0887"
             ],
             [
              0.1111111111111111,
              "#46039f"
             ],
             [
              0.2222222222222222,
              "#7201a8"
             ],
             [
              0.3333333333333333,
              "#9c179e"
             ],
             [
              0.4444444444444444,
              "#bd3786"
             ],
             [
              0.5555555555555556,
              "#d8576b"
             ],
             [
              0.6666666666666666,
              "#ed7953"
             ],
             [
              0.7777777777777778,
              "#fb9f3a"
             ],
             [
              0.8888888888888888,
              "#fdca26"
             ],
             [
              1,
              "#f0f921"
             ]
            ],
            "type": "surface"
           }
          ],
          "table": [
           {
            "cells": {
             "fill": {
              "color": "#EBF0F8"
             },
             "line": {
              "color": "white"
             }
            },
            "header": {
             "fill": {
              "color": "#C8D4E3"
             },
             "line": {
              "color": "white"
             }
            },
            "type": "table"
           }
          ]
         },
         "layout": {
          "annotationdefaults": {
           "arrowcolor": "#2a3f5f",
           "arrowhead": 0,
           "arrowwidth": 1
          },
          "autotypenumbers": "strict",
          "coloraxis": {
           "colorbar": {
            "outlinewidth": 0,
            "ticks": ""
           }
          },
          "colorscale": {
           "diverging": [
            [
             0,
             "#8e0152"
            ],
            [
             0.1,
             "#c51b7d"
            ],
            [
             0.2,
             "#de77ae"
            ],
            [
             0.3,
             "#f1b6da"
            ],
            [
             0.4,
             "#fde0ef"
            ],
            [
             0.5,
             "#f7f7f7"
            ],
            [
             0.6,
             "#e6f5d0"
            ],
            [
             0.7,
             "#b8e186"
            ],
            [
             0.8,
             "#7fbc41"
            ],
            [
             0.9,
             "#4d9221"
            ],
            [
             1,
             "#276419"
            ]
           ],
           "sequential": [
            [
             0,
             "#0d0887"
            ],
            [
             0.1111111111111111,
             "#46039f"
            ],
            [
             0.2222222222222222,
             "#7201a8"
            ],
            [
             0.3333333333333333,
             "#9c179e"
            ],
            [
             0.4444444444444444,
             "#bd3786"
            ],
            [
             0.5555555555555556,
             "#d8576b"
            ],
            [
             0.6666666666666666,
             "#ed7953"
            ],
            [
             0.7777777777777778,
             "#fb9f3a"
            ],
            [
             0.8888888888888888,
             "#fdca26"
            ],
            [
             1,
             "#f0f921"
            ]
           ],
           "sequentialminus": [
            [
             0,
             "#0d0887"
            ],
            [
             0.1111111111111111,
             "#46039f"
            ],
            [
             0.2222222222222222,
             "#7201a8"
            ],
            [
             0.3333333333333333,
             "#9c179e"
            ],
            [
             0.4444444444444444,
             "#bd3786"
            ],
            [
             0.5555555555555556,
             "#d8576b"
            ],
            [
             0.6666666666666666,
             "#ed7953"
            ],
            [
             0.7777777777777778,
             "#fb9f3a"
            ],
            [
             0.8888888888888888,
             "#fdca26"
            ],
            [
             1,
             "#f0f921"
            ]
           ]
          },
          "colorway": [
           "#636efa",
           "#EF553B",
           "#00cc96",
           "#ab63fa",
           "#FFA15A",
           "#19d3f3",
           "#FF6692",
           "#B6E880",
           "#FF97FF",
           "#FECB52"
          ],
          "font": {
           "color": "#2a3f5f"
          },
          "geo": {
           "bgcolor": "white",
           "lakecolor": "white",
           "landcolor": "#E5ECF6",
           "showlakes": true,
           "showland": true,
           "subunitcolor": "white"
          },
          "hoverlabel": {
           "align": "left"
          },
          "hovermode": "closest",
          "mapbox": {
           "style": "light"
          },
          "paper_bgcolor": "white",
          "plot_bgcolor": "#E5ECF6",
          "polar": {
           "angularaxis": {
            "gridcolor": "white",
            "linecolor": "white",
            "ticks": ""
           },
           "bgcolor": "#E5ECF6",
           "radialaxis": {
            "gridcolor": "white",
            "linecolor": "white",
            "ticks": ""
           }
          },
          "scene": {
           "xaxis": {
            "backgroundcolor": "#E5ECF6",
            "gridcolor": "white",
            "gridwidth": 2,
            "linecolor": "white",
            "showbackground": true,
            "ticks": "",
            "zerolinecolor": "white"
           },
           "yaxis": {
            "backgroundcolor": "#E5ECF6",
            "gridcolor": "white",
            "gridwidth": 2,
            "linecolor": "white",
            "showbackground": true,
            "ticks": "",
            "zerolinecolor": "white"
           },
           "zaxis": {
            "backgroundcolor": "#E5ECF6",
            "gridcolor": "white",
            "gridwidth": 2,
            "linecolor": "white",
            "showbackground": true,
            "ticks": "",
            "zerolinecolor": "white"
           }
          },
          "shapedefaults": {
           "line": {
            "color": "#2a3f5f"
           }
          },
          "ternary": {
           "aaxis": {
            "gridcolor": "white",
            "linecolor": "white",
            "ticks": ""
           },
           "baxis": {
            "gridcolor": "white",
            "linecolor": "white",
            "ticks": ""
           },
           "bgcolor": "#E5ECF6",
           "caxis": {
            "gridcolor": "white",
            "linecolor": "white",
            "ticks": ""
           }
          },
          "title": {
           "x": 0.05
          },
          "xaxis": {
           "automargin": true,
           "gridcolor": "white",
           "linecolor": "white",
           "ticks": "",
           "title": {
            "standoff": 15
           },
           "zerolinecolor": "white",
           "zerolinewidth": 2
          },
          "yaxis": {
           "automargin": true,
           "gridcolor": "white",
           "linecolor": "white",
           "ticks": "",
           "title": {
            "standoff": 15
           },
           "zerolinecolor": "white",
           "zerolinewidth": 2
          }
         }
        },
        "title": {
         "text": "Total Income Contribution by Category"
        },
        "xaxis": {
         "anchor": "y",
         "domain": [
          0,
          1
         ],
         "title": {
          "text": "value"
         }
        },
        "yaxis": {
         "anchor": "x",
         "categoryorder": "total ascending",
         "domain": [
          0,
          1
         ],
         "title": {
          "text": "category"
         }
        }
       }
      }
     },
     "metadata": {},
     "output_type": "display_data"
    }
   ],
   "source": [
    "df_fig2 = df_durcon.groupby('category')[['category','payment']].sum().sort_values('payment', ascending=False)\n",
    "\n",
    "fig2 = px.bar(  data_frame=df_fig2,\n",
    "                orientation='h',\n",
    "                title='Total Income Contribution by Category',\n",
    "                height=500)\n",
    "\n",
    "fig2.update_layout(yaxis ={'categoryorder':'total ascending'})\n",
    "\n",
    "\n",
    "fig2.show()"
   ]
  },
  {
   "cell_type": "markdown",
   "metadata": {},
   "source": [
    "From the chart above, we can see that our top 5 contributor categories are Sports, Sci-Fi, Animation, Drama, and Comedy."
   ]
  },
  {
   "cell_type": "markdown",
   "metadata": {},
   "source": [
    "If you compare both of the chart we will see difference between the inventory and contribution.\n",
    "\n",
    "| Top Inventory | Top Contributor |\n",
    "| :-- | :-- |\n",
    "| Sports | Sports |\n",
    "| Animation | Sci-Fi |\n",
    "| Sci-Fi | Animation |\n",
    "| Family | Comedy |\n",
    "\n",
    "With this information we will now see the average rate per category and the rental frequency.\n",
    "\n",
    "Then we can decide if there are any need to increase the inventory or adjust the rental rate / rental duration"
   ]
  },
  {
   "cell_type": "markdown",
   "metadata": {},
   "source": [
    "## Rental frequencies per category"
   ]
  },
  {
   "cell_type": "code",
   "execution_count": 44,
   "metadata": {},
   "outputs": [
    {
     "data": {
      "text/html": [
       "<div>\n",
       "<style scoped>\n",
       "    .dataframe tbody tr th:only-of-type {\n",
       "        vertical-align: middle;\n",
       "    }\n",
       "\n",
       "    .dataframe tbody tr th {\n",
       "        vertical-align: top;\n",
       "    }\n",
       "\n",
       "    .dataframe thead th {\n",
       "        text-align: right;\n",
       "    }\n",
       "</style>\n",
       "<table border=\"1\" class=\"dataframe\">\n",
       "  <thead>\n",
       "    <tr style=\"text-align: right;\">\n",
       "      <th></th>\n",
       "      <th>category</th>\n",
       "      <th>rental_freq</th>\n",
       "      <th>inventory</th>\n",
       "      <th>payment</th>\n",
       "    </tr>\n",
       "  </thead>\n",
       "  <tbody>\n",
       "    <tr>\n",
       "      <th>14</th>\n",
       "      <td>Animation</td>\n",
       "      <td>1179</td>\n",
       "      <td>344</td>\n",
       "      <td>5314.0</td>\n",
       "    </tr>\n",
       "    <tr>\n",
       "      <th>1</th>\n",
       "      <td>Sports</td>\n",
       "      <td>1166</td>\n",
       "      <td>335</td>\n",
       "      <td>4656.0</td>\n",
       "    </tr>\n",
       "    <tr>\n",
       "      <th>0</th>\n",
       "      <td>Travel</td>\n",
       "      <td>1112</td>\n",
       "      <td>312</td>\n",
       "      <td>4376.0</td>\n",
       "    </tr>\n",
       "    <tr>\n",
       "      <th>13</th>\n",
       "      <td>Children</td>\n",
       "      <td>1101</td>\n",
       "      <td>312</td>\n",
       "      <td>4757.0</td>\n",
       "    </tr>\n",
       "    <tr>\n",
       "      <th>7</th>\n",
       "      <td>Foreign</td>\n",
       "      <td>1096</td>\n",
       "      <td>310</td>\n",
       "      <td>4226.0</td>\n",
       "    </tr>\n",
       "    <tr>\n",
       "      <th>6</th>\n",
       "      <td>Games</td>\n",
       "      <td>1060</td>\n",
       "      <td>300</td>\n",
       "      <td>4587.0</td>\n",
       "    </tr>\n",
       "    <tr>\n",
       "      <th>5</th>\n",
       "      <td>Horror</td>\n",
       "      <td>1050</td>\n",
       "      <td>294</td>\n",
       "      <td>4218.0</td>\n",
       "    </tr>\n",
       "    <tr>\n",
       "      <th>8</th>\n",
       "      <td>Family</td>\n",
       "      <td>1033</td>\n",
       "      <td>300</td>\n",
       "      <td>4271.0</td>\n",
       "    </tr>\n",
       "    <tr>\n",
       "      <th>9</th>\n",
       "      <td>Drama</td>\n",
       "      <td>969</td>\n",
       "      <td>276</td>\n",
       "      <td>4281.0</td>\n",
       "    </tr>\n",
       "    <tr>\n",
       "      <th>2</th>\n",
       "      <td>Sci-Fi</td>\n",
       "      <td>945</td>\n",
       "      <td>269</td>\n",
       "      <td>3656.0</td>\n",
       "    </tr>\n",
       "    <tr>\n",
       "      <th>4</th>\n",
       "      <td>Music</td>\n",
       "      <td>941</td>\n",
       "      <td>269</td>\n",
       "      <td>4384.0</td>\n",
       "    </tr>\n",
       "    <tr>\n",
       "      <th>12</th>\n",
       "      <td>Classics</td>\n",
       "      <td>940</td>\n",
       "      <td>275</td>\n",
       "      <td>4352.0</td>\n",
       "    </tr>\n",
       "    <tr>\n",
       "      <th>3</th>\n",
       "      <td>New</td>\n",
       "      <td>939</td>\n",
       "      <td>270</td>\n",
       "      <td>3640.0</td>\n",
       "    </tr>\n",
       "    <tr>\n",
       "      <th>10</th>\n",
       "      <td>Documentary</td>\n",
       "      <td>846</td>\n",
       "      <td>248</td>\n",
       "      <td>3723.0</td>\n",
       "    </tr>\n",
       "    <tr>\n",
       "      <th>15</th>\n",
       "      <td>Action</td>\n",
       "      <td>837</td>\n",
       "      <td>235</td>\n",
       "      <td>3550.0</td>\n",
       "    </tr>\n",
       "    <tr>\n",
       "      <th>11</th>\n",
       "      <td>Comedy</td>\n",
       "      <td>830</td>\n",
       "      <td>232</td>\n",
       "      <td>3418.0</td>\n",
       "    </tr>\n",
       "  </tbody>\n",
       "</table>\n",
       "</div>"
      ],
      "text/plain": [
       "       category  rental_freq  inventory  payment\n",
       "14    Animation         1179        344   5314.0\n",
       "1        Sports         1166        335   4656.0\n",
       "0        Travel         1112        312   4376.0\n",
       "13     Children         1101        312   4757.0\n",
       "7       Foreign         1096        310   4226.0\n",
       "6         Games         1060        300   4587.0\n",
       "5        Horror         1050        294   4218.0\n",
       "8        Family         1033        300   4271.0\n",
       "9         Drama          969        276   4281.0\n",
       "2        Sci-Fi          945        269   3656.0\n",
       "4         Music          941        269   4384.0\n",
       "12     Classics          940        275   4352.0\n",
       "3           New          939        270   3640.0\n",
       "10  Documentary          846        248   3723.0\n",
       "15       Action          837        235   3550.0\n",
       "11       Comedy          830        232   3418.0"
      ]
     },
     "execution_count": 44,
     "metadata": {},
     "output_type": "execute_result"
    }
   ],
   "source": [
    "# Make dataframe for the plot\n",
    "\n",
    "df_3 = pd.DataFrame()\n",
    "\n",
    "df_3['category'] = df_film['category'].unique()\n",
    "\n",
    "df_3['rental_freq'] = list(df_durcon.groupby('category')['rental_id'].count())\n",
    "\n",
    "df_3['inventory'] = list(df_film.groupby('category')['category'].aggregate('count'))\n",
    "\n",
    "df_3['payment'] = list(round(df_durcon.groupby('category')['payment'].sum()))\n",
    "\n",
    "df_3 = df_3.sort_values(by='rental_freq', ascending=False)\n",
    "\n",
    "df_3"
   ]
  },
  {
   "cell_type": "code",
   "execution_count": 45,
   "metadata": {},
   "outputs": [
    {
     "data": {
      "image/png": "[encoded data removed]",
      "text/plain": [
       "<Figure size 1296x576 with 2 Axes>"
      ]
     },
     "metadata": {
      "needs_background": "light"
     },
     "output_type": "display_data"
    }
   ],
   "source": [
    "df_3.plot(x='category',y=['rental_freq','inventory'], kind='bar', stacked=False, secondary_y =['inventory'], figsize = (18,8))\n",
    "\n",
    "plt.title('Rental freq vs Inventory', size=18)\n",
    "\n",
    "plt.show()"
   ]
  },
  {
   "cell_type": "markdown",
   "metadata": {},
   "source": [
    "As we can see from the table above, the supply does complement the rental frequency. Thus we further explore the rental rate to find if there are any difference in average payment."
   ]
  },
  {
   "cell_type": "markdown",
   "metadata": {},
   "source": [
    "## Average rate per category"
   ]
  },
  {
   "cell_type": "code",
   "execution_count": 39,
   "metadata": {},
   "outputs": [
    {
     "name": "stdout",
     "output_type": "stream",
     "text": [
      "pvalue < 0.05, reject Ho\n",
      "The data is not normally distributed\n"
     ]
    }
   ],
   "source": [
    "# Normality test on 'payment' variable based on category\n",
    "\n",
    "from scipy.stats import normaltest  # N > 500\n",
    "\n",
    "norm, pval = normaltest(df_durcon['payment'])\n",
    "\n",
    "if pval < 0.05:\n",
    "    print('pvalue < 0.05, reject Ho')\n",
    "    print('The data is not normally distributed')\n",
    "else:\n",
    "    print('pvalue > 0.05, failed to reject Ho')\n",
    "    print('The data is normally distributed')"
   ]
  },
  {
   "cell_type": "code",
   "execution_count": 40,
   "metadata": {},
   "outputs": [
    {
     "name": "stdout",
     "output_type": "stream",
     "text": [
      "pvalue < 0.05, reject Ho\n",
      "There are payment median differences between each category\n"
     ]
    }
   ],
   "source": [
    "# Kruskal Wallis to check if there are any differences between the median of each categories' payment\n",
    "\n",
    "from scipy.stats import kruskal\n",
    "\n",
    "stat, pvalue = kruskal(\n",
    "    df_durcon[df_durcon['category'] == 'Sports']['payment'],\n",
    "    df_durcon[df_durcon['category'] == 'Sci-Fi']['payment'],\n",
    "    df_durcon[df_durcon['category'] == 'Animation']['payment'],\n",
    "    df_durcon[df_durcon['category'] == 'Drama']['payment'],\n",
    "    df_durcon[df_durcon['category'] == 'Comedy']['payment'],\n",
    "    df_durcon[df_durcon['category'] == 'Action']['payment'],\n",
    "    df_durcon[df_durcon['category'] == 'New']['payment'],\n",
    "    df_durcon[df_durcon['category'] == 'Games']['payment'],\n",
    "    df_durcon[df_durcon['category'] == 'Foreign']['payment'],\n",
    "    df_durcon[df_durcon['category'] == 'Family']['payment'],\n",
    "    df_durcon[df_durcon['category'] == 'Documentary']['payment'],\n",
    "    df_durcon[df_durcon['category'] == 'Horror']['payment'],\n",
    "    df_durcon[df_durcon['category'] == 'Children']['payment'],\n",
    "    df_durcon[df_durcon['category'] == 'Classics']['payment'],\n",
    "    df_durcon[df_durcon['category'] == 'Travel']['payment'],\n",
    "    df_durcon[df_durcon['category'] == 'Music']['payment']\n",
    ")\n",
    "\n",
    "if pvalue < 0.05 :\n",
    "    print('pvalue < 0.05, reject Ho')\n",
    "    print('There are payment median differences between each category')\n",
    "else:\n",
    "    print('pvalue > 0.05, failed to reject Ho')\n",
    "    print('There are no payment median difference betwewn each category')"
   ]
  },
  {
   "cell_type": "markdown",
   "metadata": {},
   "source": [
    "Now we know that there are difference on the rental_rate for each category. With this data we can conclude that there are difference on the rate between category, that can cause the difference in rental_freq and contribution."
   ]
  },
  {
   "cell_type": "markdown",
   "metadata": {},
   "source": [
    "## Overtime contribution\n",
    "\n",
    "We want to see how many of our payments are penalize because of overtime."
   ]
  },
  {
   "cell_type": "code",
   "execution_count": 182,
   "metadata": {},
   "outputs": [
    {
     "data": {
      "text/html": [
       "<div>\n",
       "<style scoped>\n",
       "    .dataframe tbody tr th:only-of-type {\n",
       "        vertical-align: middle;\n",
       "    }\n",
       "\n",
       "    .dataframe tbody tr th {\n",
       "        vertical-align: top;\n",
       "    }\n",
       "\n",
       "    .dataframe thead th {\n",
       "        text-align: right;\n",
       "    }\n",
       "</style>\n",
       "<table border=\"1\" class=\"dataframe\">\n",
       "  <thead>\n",
       "    <tr style=\"text-align: right;\">\n",
       "      <th></th>\n",
       "      <th>category</th>\n",
       "      <th>month</th>\n",
       "      <th>rental_duration</th>\n",
       "      <th>rental_length_day</th>\n",
       "      <th>payment</th>\n",
       "      <th>overtime</th>\n",
       "    </tr>\n",
       "  </thead>\n",
       "  <tbody>\n",
       "    <tr>\n",
       "      <th>0</th>\n",
       "      <td>Games</td>\n",
       "      <td>6</td>\n",
       "      <td>5</td>\n",
       "      <td>7.0</td>\n",
       "      <td>2.99</td>\n",
       "      <td>Yes</td>\n",
       "    </tr>\n",
       "    <tr>\n",
       "      <th>1</th>\n",
       "      <td>Comedy</td>\n",
       "      <td>7</td>\n",
       "      <td>7</td>\n",
       "      <td>2.0</td>\n",
       "      <td>4.99</td>\n",
       "      <td>No</td>\n",
       "    </tr>\n",
       "    <tr>\n",
       "      <th>2</th>\n",
       "      <td>Action</td>\n",
       "      <td>7</td>\n",
       "      <td>3</td>\n",
       "      <td>7.0</td>\n",
       "      <td>8.99</td>\n",
       "      <td>Yes</td>\n",
       "    </tr>\n",
       "    <tr>\n",
       "      <th>3</th>\n",
       "      <td>Classics</td>\n",
       "      <td>7</td>\n",
       "      <td>4</td>\n",
       "      <td>8.0</td>\n",
       "      <td>6.99</td>\n",
       "      <td>Yes</td>\n",
       "    </tr>\n",
       "    <tr>\n",
       "      <th>4</th>\n",
       "      <td>New</td>\n",
       "      <td>7</td>\n",
       "      <td>3</td>\n",
       "      <td>9.0</td>\n",
       "      <td>6.99</td>\n",
       "      <td>Yes</td>\n",
       "    </tr>\n",
       "    <tr>\n",
       "      <th>...</th>\n",
       "      <td>...</td>\n",
       "      <td>...</td>\n",
       "      <td>...</td>\n",
       "      <td>...</td>\n",
       "      <td>...</td>\n",
       "      <td>...</td>\n",
       "    </tr>\n",
       "    <tr>\n",
       "      <th>16039</th>\n",
       "      <td>Drama</td>\n",
       "      <td>8</td>\n",
       "      <td>3</td>\n",
       "      <td>2.0</td>\n",
       "      <td>4.99</td>\n",
       "      <td>No</td>\n",
       "    </tr>\n",
       "    <tr>\n",
       "      <th>16040</th>\n",
       "      <td>Sci-Fi</td>\n",
       "      <td>6</td>\n",
       "      <td>4</td>\n",
       "      <td>3.0</td>\n",
       "      <td>4.99</td>\n",
       "      <td>No</td>\n",
       "    </tr>\n",
       "    <tr>\n",
       "      <th>16041</th>\n",
       "      <td>Comedy</td>\n",
       "      <td>6</td>\n",
       "      <td>6</td>\n",
       "      <td>2.0</td>\n",
       "      <td>0.99</td>\n",
       "      <td>No</td>\n",
       "    </tr>\n",
       "    <tr>\n",
       "      <th>16042</th>\n",
       "      <td>Horror</td>\n",
       "      <td>7</td>\n",
       "      <td>5</td>\n",
       "      <td>2.0</td>\n",
       "      <td>4.99</td>\n",
       "      <td>No</td>\n",
       "    </tr>\n",
       "    <tr>\n",
       "      <th>16043</th>\n",
       "      <td>Documentary</td>\n",
       "      <td>7</td>\n",
       "      <td>7</td>\n",
       "      <td>6.0</td>\n",
       "      <td>2.99</td>\n",
       "      <td>No</td>\n",
       "    </tr>\n",
       "  </tbody>\n",
       "</table>\n",
       "<p>16044 rows × 6 columns</p>\n",
       "</div>"
      ],
      "text/plain": [
       "          category  month  rental_duration  rental_length_day  payment  \\\n",
       "0            Games      6                5                7.0     2.99   \n",
       "1           Comedy      7                7                2.0     4.99   \n",
       "2           Action      7                3                7.0     8.99   \n",
       "3         Classics      7                4                8.0     6.99   \n",
       "4              New      7                3                9.0     6.99   \n",
       "...            ...    ...              ...                ...      ...   \n",
       "16039        Drama      8                3                2.0     4.99   \n",
       "16040       Sci-Fi      6                4                3.0     4.99   \n",
       "16041       Comedy      6                6                2.0     0.99   \n",
       "16042       Horror      7                5                2.0     4.99   \n",
       "16043  Documentary      7                7                6.0     2.99   \n",
       "\n",
       "      overtime  \n",
       "0          Yes  \n",
       "1           No  \n",
       "2          Yes  \n",
       "3          Yes  \n",
       "4          Yes  \n",
       "...        ...  \n",
       "16039       No  \n",
       "16040       No  \n",
       "16041       No  \n",
       "16042       No  \n",
       "16043       No  \n",
       "\n",
       "[16044 rows x 6 columns]"
      ]
     },
     "execution_count": 182,
     "metadata": {},
     "output_type": "execute_result"
    }
   ],
   "source": [
    "# Create dataset\n",
    "df_6 = pd.DataFrame(df_durcon[['category','month','rental_duration','rental_length_day','payment']])\n",
    "\n",
    "df_6['overtime'] = df_6['rental_length_day'] - df_6['rental_duration']\n",
    "\n",
    "df_6['overtime'] = df_6['overtime'].apply(lambda x: 'Yes' if x >0 else 'No')\n",
    "\n",
    "df_6"
   ]
  },
  {
   "cell_type": "code",
   "execution_count": 183,
   "metadata": {},
   "outputs": [
    {
     "data": {
      "application/vnd.plotly.v1+json": {
       "config": {
        "plotlyServerURL": "https://plot.ly"
       },
       "data": [
        {
         "branchvalues": "total",
         "domain": {
          "x": [
           0,
           1
          ],
          "y": [
           0,
           1
          ]
         },
         "hovertemplate": "labels=%{label}<br>payment=%{value}<br>parent=%{parent}<br>id=%{id}<extra></extra>",
         "ids": [
          "No/Action",
          "Yes/Action",
          "No/Animation",
          "Yes/Animation",
          "No/Children",
          "Yes/Children",
          "No/Classics",
          "Yes/Classics",
          "No/Comedy",
          "Yes/Comedy",
          "No/Documentary",
          "Yes/Documentary",
          "No/Drama",
          "Yes/Drama",
          "No/Family",
          "Yes/Family",
          "No/Foreign",
          "Yes/Foreign",
          "No/Games",
          "Yes/Games",
          "No/Horror",
          "Yes/Horror",
          "No/Music",
          "Yes/Music",
          "No/New",
          "Yes/New",
          "No/Sci-Fi",
          "Yes/Sci-Fi",
          "No/Sports",
          "Yes/Sports",
          "No/Travel",
          "Yes/Travel",
          "No",
          "Yes"
         ],
         "labels": [
          "Action",
          "Action",
          "Animation",
          "Animation",
          "Children",
          "Children",
          "Classics",
          "Classics",
          "Comedy",
          "Comedy",
          "Documentary",
          "Documentary",
          "Drama",
          "Drama",
          "Family",
          "Family",
          "Foreign",
          "Foreign",
          "Games",
          "Games",
          "Horror",
          "Horror",
          "Music",
          "Music",
          "New",
          "New",
          "Sci-Fi",
          "Sci-Fi",
          "Sports",
          "Sports",
          "Travel",
          "Travel",
          "No",
          "Yes"
         ],
         "name": "",
         "parents": [
          "No",
          "Yes",
          "No",
          "Yes",
          "No",
          "Yes",
          "No",
          "Yes",
          "No",
          "Yes",
          "No",
          "Yes",
          "No",
          "Yes",
          "No",
          "Yes",
          "No",
          "Yes",
          "No",
          "Yes",
          "No",
          "Yes",
          "No",
          "Yes",
          "No",
          "Yes",
          "No",
          "Yes",
          "No",
          "Yes",
          "No",
          "Yes",
          "",
          ""
         ],
         "type": "treemap",
         "values": [
          1545.0500000000002,
          2830.8,
          1787.6000000000001,
          2868.7000000000003,
          1416.6200000000001,
          2238.9300000000003,
          1434.78,
          2204.81,
          1655.0600000000002,
          2728.52,
          1378.71,
          2838.81,
          1851.0500000000002,
          2736.34,
          1612.89,
          2613.1800000000003,
          1778.18,
          2492.4900000000002,
          1535.02,
          2746.31,
          1375.5600000000002,
          2346.98,
          1471.22,
          1946.5,
          1506.27,
          2845.35,
          1691.3300000000002,
          3065.65,
          1868.16,
          3446.05,
          1843.67,
          1705.97,
          25751.170000000002,
          41655.39
         ]
        }
       ],
       "layout": {
        "height": 600,
        "legend": {
         "tracegroupgap": 0
        },
        "template": {
         "data": {
          "bar": [
           {
            "error_x": {
             "color": "#2a3f5f"
            },
            "error_y": {
             "color": "#2a3f5f"
            },
            "marker": {
             "line": {
              "color": "#E5ECF6",
              "width": 0.5
             },
             "pattern": {
              "fillmode": "overlay",
              "size": 10,
              "solidity": 0.2
             }
            },
            "type": "bar"
           }
          ],
          "barpolar": [
           {
            "marker": {
             "line": {
              "color": "#E5ECF6",
              "width": 0.5
             },
             "pattern": {
              "fillmode": "overlay",
              "size": 10,
              "solidity": 0.2
             }
            },
            "type": "barpolar"
           }
          ],
          "carpet": [
           {
            "aaxis": {
             "endlinecolor": "#2a3f5f",
             "gridcolor": "white",
             "linecolor": "white",
             "minorgridcolor": "white",
             "startlinecolor": "#2a3f5f"
            },
            "baxis": {
             "endlinecolor": "#2a3f5f",
             "gridcolor": "white",
             "linecolor": "white",
             "minorgridcolor": "white",
             "startlinecolor": "#2a3f5f"
            },
            "type": "carpet"
           }
          ],
          "choropleth": [
           {
            "colorbar": {
             "outlinewidth": 0,
             "ticks": ""
            },
            "type": "choropleth"
           }
          ],
          "contour": [
           {
            "colorbar": {
             "outlinewidth": 0,
             "ticks": ""
            },
            "colorscale": [
             [
              0,
              "#0d0887"
             ],
             [
              0.1111111111111111,
              "#46039f"
             ],
             [
              0.2222222222222222,
              "#7201a8"
             ],
             [
              0.3333333333333333,
              "#9c179e"
             ],
             [
              0.4444444444444444,
              "#bd3786"
             ],
             [
              0.5555555555555556,
              "#d8576b"
             ],
             [
              0.6666666666666666,
              "#ed7953"
             ],
             [
              0.7777777777777778,
              "#fb9f3a"
             ],
             [
              0.8888888888888888,
              "#fdca26"
             ],
             [
              1,
              "#f0f921"
             ]
            ],
            "type": "contour"
           }
          ],
          "contourcarpet": [
           {
            "colorbar": {
             "outlinewidth": 0,
             "ticks": ""
            },
            "type": "contourcarpet"
           }
          ],
          "heatmap": [
           {
            "colorbar": {
             "outlinewidth": 0,
             "ticks": ""
            },
            "colorscale": [
             [
              0,
              "#0d0887"
             ],
             [
              0.1111111111111111,
              "#46039f"
             ],
             [
              0.2222222222222222,
              "#7201a8"
             ],
             [
              0.3333333333333333,
              "#9c179e"
             ],
             [
              0.4444444444444444,
              "#bd3786"
             ],
             [
              0.5555555555555556,
              "#d8576b"
             ],
             [
              0.6666666666666666,
              "#ed7953"
             ],
             [
              0.7777777777777778,
              "#fb9f3a"
             ],
             [
              0.8888888888888888,
              "#fdca26"
             ],
             [
              1,
              "#f0f921"
             ]
            ],
            "type": "heatmap"
           }
          ],
          "heatmapgl": [
           {
            "colorbar": {
             "outlinewidth": 0,
             "ticks": ""
            },
            "colorscale": [
             [
              0,
              "#0d0887"
             ],
             [
              0.1111111111111111,
              "#46039f"
             ],
             [
              0.2222222222222222,
              "#7201a8"
             ],
             [
              0.3333333333333333,
              "#9c179e"
             ],
             [
              0.4444444444444444,
              "#bd3786"
             ],
             [
              0.5555555555555556,
              "#d8576b"
             ],
             [
              0.6666666666666666,
              "#ed7953"
             ],
             [
              0.7777777777777778,
              "#fb9f3a"
             ],
             [
              0.8888888888888888,
              "#fdca26"
             ],
             [
              1,
              "#f0f921"
             ]
            ],
            "type": "heatmapgl"
           }
          ],
          "histogram": [
           {
            "marker": {
             "pattern": {
              "fillmode": "overlay",
              "size": 10,
              "solidity": 0.2
             }
            },
            "type": "histogram"
           }
          ],
          "histogram2d": [
           {
            "colorbar": {
             "outlinewidth": 0,
             "ticks": ""
            },
            "colorscale": [
             [
              0,
              "#0d0887"
             ],
             [
              0.1111111111111111,
              "#46039f"
             ],
             [
              0.2222222222222222,
              "#7201a8"
             ],
             [
              0.3333333333333333,
              "#9c179e"
             ],
             [
              0.4444444444444444,
              "#bd3786"
             ],
             [
              0.5555555555555556,
              "#d8576b"
             ],
             [
              0.6666666666666666,
              "#ed7953"
             ],
             [
              0.7777777777777778,
              "#fb9f3a"
             ],
             [
              0.8888888888888888,
              "#fdca26"
             ],
             [
              1,
              "#f0f921"
             ]
            ],
            "type": "histogram2d"
           }
          ],
          "histogram2dcontour": [
           {
            "colorbar": {
             "outlinewidth": 0,
             "ticks": ""
            },
            "colorscale": [
             [
              0,
              "#0d0887"
             ],
             [
              0.1111111111111111,
              "#46039f"
             ],
             [
              0.2222222222222222,
              "#7201a8"
             ],
             [
              0.3333333333333333,
              "#9c179e"
             ],
             [
              0.4444444444444444,
              "#bd3786"
             ],
             [
              0.5555555555555556,
              "#d8576b"
             ],
             [
              0.6666666666666666,
              "#ed7953"
             ],
             [
              0.7777777777777778,
              "#fb9f3a"
             ],
             [
              0.8888888888888888,
              "#fdca26"
             ],
             [
              1,
              "#f0f921"
             ]
            ],
            "type": "histogram2dcontour"
           }
          ],
          "mesh3d": [
           {
            "colorbar": {
             "outlinewidth": 0,
             "ticks": ""
            },
            "type": "mesh3d"
           }
          ],
          "parcoords": [
           {
            "line": {
             "colorbar": {
              "outlinewidth": 0,
              "ticks": ""
             }
            },
            "type": "parcoords"
           }
          ],
          "pie": [
           {
            "automargin": true,
            "type": "pie"
           }
          ],
          "scatter": [
           {
            "marker": {
             "colorbar": {
              "outlinewidth": 0,
              "ticks": ""
             }
            },
            "type": "scatter"
           }
          ],
          "scatter3d": [
           {
            "line": {
             "colorbar": {
              "outlinewidth": 0,
              "ticks": ""
             }
            },
            "marker": {
             "colorbar": {
              "outlinewidth": 0,
              "ticks": ""
             }
            },
            "type": "scatter3d"
           }
          ],
          "scattercarpet": [
           {
            "marker": {
             "colorbar": {
              "outlinewidth": 0,
              "ticks": ""
             }
            },
            "type": "scattercarpet"
           }
          ],
          "scattergeo": [
           {
            "marker": {
             "colorbar": {
              "outlinewidth": 0,
              "ticks": ""
             }
            },
            "type": "scattergeo"
           }
          ],
          "scattergl": [
           {
            "marker": {
             "colorbar": {
              "outlinewidth": 0,
              "ticks": ""
             }
            },
            "type": "scattergl"
           }
          ],
          "scattermapbox": [
           {
            "marker": {
             "colorbar": {
              "outlinewidth": 0,
              "ticks": ""
             }
            },
            "type": "scattermapbox"
           }
          ],
          "scatterpolar": [
           {
            "marker": {
             "colorbar": {
              "outlinewidth": 0,
              "ticks": ""
             }
            },
            "type": "scatterpolar"
           }
          ],
          "scatterpolargl": [
           {
            "marker": {
             "colorbar": {
              "outlinewidth": 0,
              "ticks": ""
             }
            },
            "type": "scatterpolargl"
           }
          ],
          "scatterternary": [
           {
            "marker": {
             "colorbar": {
              "outlinewidth": 0,
              "ticks": ""
             }
            },
            "type": "scatterternary"
           }
          ],
          "surface": [
           {
            "colorbar": {
             "outlinewidth": 0,
             "ticks": ""
            },
            "colorscale": [
             [
              0,
              "#0d0887"
             ],
             [
              0.1111111111111111,
              "#46039f"
             ],
             [
              0.2222222222222222,
              "#7201a8"
             ],
             [
              0.3333333333333333,
              "#9c179e"
             ],
             [
              0.4444444444444444,
              "#bd3786"
             ],
             [
              0.5555555555555556,
              "#d8576b"
             ],
             [
              0.6666666666666666,
              "#ed7953"
             ],
             [
              0.7777777777777778,
              "#fb9f3a"
             ],
             [
              0.8888888888888888,
              "#fdca26"
             ],
             [
              1,
              "#f0f921"
             ]
            ],
            "type": "surface"
           }
          ],
          "table": [
           {
            "cells": {
             "fill": {
              "color": "#EBF0F8"
             },
             "line": {
              "color": "white"
             }
            },
            "header": {
             "fill": {
              "color": "#C8D4E3"
             },
             "line": {
              "color": "white"
             }
            },
            "type": "table"
           }
          ]
         },
         "layout": {
          "annotationdefaults": {
           "arrowcolor": "#2a3f5f",
           "arrowhead": 0,
           "arrowwidth": 1
          },
          "autotypenumbers": "strict",
          "coloraxis": {
           "colorbar": {
            "outlinewidth": 0,
            "ticks": ""
           }
          },
          "colorscale": {
           "diverging": [
            [
             0,
             "#8e0152"
            ],
            [
             0.1,
             "#c51b7d"
            ],
            [
             0.2,
             "#de77ae"
            ],
            [
             0.3,
             "#f1b6da"
            ],
            [
             0.4,
             "#fde0ef"
            ],
            [
             0.5,
             "#f7f7f7"
            ],
            [
             0.6,
             "#e6f5d0"
            ],
            [
             0.7,
             "#b8e186"
            ],
            [
             0.8,
             "#7fbc41"
            ],
            [
             0.9,
             "#4d9221"
            ],
            [
             1,
             "#276419"
            ]
           ],
           "sequential": [
            [
             0,
             "#0d0887"
            ],
            [
             0.1111111111111111,
             "#46039f"
            ],
            [
             0.2222222222222222,
             "#7201a8"
            ],
            [
             0.3333333333333333,
             "#9c179e"
            ],
            [
             0.4444444444444444,
             "#bd3786"
            ],
            [
             0.5555555555555556,
             "#d8576b"
            ],
            [
             0.6666666666666666,
             "#ed7953"
            ],
            [
             0.7777777777777778,
             "#fb9f3a"
            ],
            [
             0.8888888888888888,
             "#fdca26"
            ],
            [
             1,
             "#f0f921"
            ]
           ],
           "sequentialminus": [
            [
             0,
             "#0d0887"
            ],
            [
             0.1111111111111111,
             "#46039f"
            ],
            [
             0.2222222222222222,
             "#7201a8"
            ],
            [
             0.3333333333333333,
             "#9c179e"
            ],
            [
             0.4444444444444444,
             "#bd3786"
            ],
            [
             0.5555555555555556,
             "#d8576b"
            ],
            [
             0.6666666666666666,
             "#ed7953"
            ],
            [
             0.7777777777777778,
             "#fb9f3a"
            ],
            [
             0.8888888888888888,
             "#fdca26"
            ],
            [
             1,
             "#f0f921"
            ]
           ]
          },
          "colorway": [
           "#636efa",
           "#EF553B",
           "#00cc96",
           "#ab63fa",
           "#FFA15A",
           "#19d3f3",
           "#FF6692",
           "#B6E880",
           "#FF97FF",
           "#FECB52"
          ],
          "font": {
           "color": "#2a3f5f"
          },
          "geo": {
           "bgcolor": "white",
           "lakecolor": "white",
           "landcolor": "#E5ECF6",
           "showlakes": true,
           "showland": true,
           "subunitcolor": "white"
          },
          "hoverlabel": {
           "align": "left"
          },
          "hovermode": "closest",
          "mapbox": {
           "style": "light"
          },
          "paper_bgcolor": "white",
          "plot_bgcolor": "#E5ECF6",
          "polar": {
           "angularaxis": {
            "gridcolor": "white",
            "linecolor": "white",
            "ticks": ""
           },
           "bgcolor": "#E5ECF6",
           "radialaxis": {
            "gridcolor": "white",
            "linecolor": "white",
            "ticks": ""
           }
          },
          "scene": {
           "xaxis": {
            "backgroundcolor": "#E5ECF6",
            "gridcolor": "white",
            "gridwidth": 2,
            "linecolor": "white",
            "showbackground": true,
            "ticks": "",
            "zerolinecolor": "white"
           },
           "yaxis": {
            "backgroundcolor": "#E5ECF6",
            "gridcolor": "white",
            "gridwidth": 2,
            "linecolor": "white",
            "showbackground": true,
            "ticks": "",
            "zerolinecolor": "white"
           },
           "zaxis": {
            "backgroundcolor": "#E5ECF6",
            "gridcolor": "white",
            "gridwidth": 2,
            "linecolor": "white",
            "showbackground": true,
            "ticks": "",
            "zerolinecolor": "white"
           }
          },
          "shapedefaults": {
           "line": {
            "color": "#2a3f5f"
           }
          },
          "ternary": {
           "aaxis": {
            "gridcolor": "white",
            "linecolor": "white",
            "ticks": ""
           },
           "baxis": {
            "gridcolor": "white",
            "linecolor": "white",
            "ticks": ""
           },
           "bgcolor": "#E5ECF6",
           "caxis": {
            "gridcolor": "white",
            "linecolor": "white",
            "ticks": ""
           }
          },
          "title": {
           "x": 0.05
          },
          "xaxis": {
           "automargin": true,
           "gridcolor": "white",
           "linecolor": "white",
           "ticks": "",
           "title": {
            "standoff": 15
           },
           "zerolinecolor": "white",
           "zerolinewidth": 2
          },
          "yaxis": {
           "automargin": true,
           "gridcolor": "white",
           "linecolor": "white",
           "ticks": "",
           "title": {
            "standoff": 15
           },
           "zerolinecolor": "white",
           "zerolinewidth": 2
          }
         }
        },
        "title": {
         "text": "Penalty Contribution to Payment"
        },
        "width": 1500
       }
      }
     },
     "metadata": {},
     "output_type": "display_data"
    }
   ],
   "source": [
    "df_6_1 = df_6.groupby(['category','overtime'])['payment'].sum().reset_index()\n",
    "\n",
    "fig6 = px.treemap(\n",
    "            df_6_1,\n",
    "            path=['overtime','category'],\n",
    "            values='payment',\n",
    "                width=1500,\n",
    "            height=600,\n",
    "            color_continuous_scale='YlGnBu',\n",
    "            title='Penalty Contribution to Payment'\n",
    "        )\n",
    "\n",
    "fig6.show()"
   ]
  },
  {
   "cell_type": "markdown",
   "metadata": {},
   "source": [
    "Most of our payment are penalize with overdue, such we can conclude that our default rental duration are not fit to the customer's need and have to be adjusted. Below is the reference for the adjustment."
   ]
  },
  {
   "cell_type": "code",
   "execution_count": 184,
   "metadata": {},
   "outputs": [
    {
     "data": {
      "text/html": [
       "<div>\n",
       "<style scoped>\n",
       "    .dataframe tbody tr th:only-of-type {\n",
       "        vertical-align: middle;\n",
       "    }\n",
       "\n",
       "    .dataframe tbody tr th {\n",
       "        vertical-align: top;\n",
       "    }\n",
       "\n",
       "    .dataframe thead th {\n",
       "        text-align: right;\n",
       "    }\n",
       "</style>\n",
       "<table border=\"1\" class=\"dataframe\">\n",
       "  <thead>\n",
       "    <tr style=\"text-align: right;\">\n",
       "      <th></th>\n",
       "      <th>category</th>\n",
       "      <th>rating</th>\n",
       "      <th>rental_duration</th>\n",
       "      <th>rental_length_day</th>\n",
       "    </tr>\n",
       "  </thead>\n",
       "  <tbody>\n",
       "    <tr>\n",
       "      <th>0</th>\n",
       "      <td>Action</td>\n",
       "      <td>G</td>\n",
       "      <td>5.172881</td>\n",
       "      <td>5.189831</td>\n",
       "    </tr>\n",
       "    <tr>\n",
       "      <th>1</th>\n",
       "      <td>Action</td>\n",
       "      <td>NC-17</td>\n",
       "      <td>4.867133</td>\n",
       "      <td>4.909091</td>\n",
       "    </tr>\n",
       "    <tr>\n",
       "      <th>2</th>\n",
       "      <td>Action</td>\n",
       "      <td>PG</td>\n",
       "      <td>4.725610</td>\n",
       "      <td>5.097561</td>\n",
       "    </tr>\n",
       "    <tr>\n",
       "      <th>3</th>\n",
       "      <td>Action</td>\n",
       "      <td>PG-13</td>\n",
       "      <td>5.209302</td>\n",
       "      <td>4.841860</td>\n",
       "    </tr>\n",
       "    <tr>\n",
       "      <th>4</th>\n",
       "      <td>Action</td>\n",
       "      <td>R</td>\n",
       "      <td>4.610169</td>\n",
       "      <td>5.023729</td>\n",
       "    </tr>\n",
       "    <tr>\n",
       "      <th>...</th>\n",
       "      <td>...</td>\n",
       "      <td>...</td>\n",
       "      <td>...</td>\n",
       "      <td>...</td>\n",
       "    </tr>\n",
       "    <tr>\n",
       "      <th>75</th>\n",
       "      <td>Travel</td>\n",
       "      <td>G</td>\n",
       "      <td>4.931298</td>\n",
       "      <td>4.877863</td>\n",
       "    </tr>\n",
       "    <tr>\n",
       "      <th>76</th>\n",
       "      <td>Travel</td>\n",
       "      <td>NC-17</td>\n",
       "      <td>6.007194</td>\n",
       "      <td>4.920863</td>\n",
       "    </tr>\n",
       "    <tr>\n",
       "      <th>77</th>\n",
       "      <td>Travel</td>\n",
       "      <td>PG</td>\n",
       "      <td>5.872247</td>\n",
       "      <td>4.709251</td>\n",
       "    </tr>\n",
       "    <tr>\n",
       "      <th>78</th>\n",
       "      <td>Travel</td>\n",
       "      <td>PG-13</td>\n",
       "      <td>5.362069</td>\n",
       "      <td>4.879310</td>\n",
       "    </tr>\n",
       "    <tr>\n",
       "      <th>79</th>\n",
       "      <td>Travel</td>\n",
       "      <td>R</td>\n",
       "      <td>5.006024</td>\n",
       "      <td>4.759036</td>\n",
       "    </tr>\n",
       "  </tbody>\n",
       "</table>\n",
       "<p>80 rows × 4 columns</p>\n",
       "</div>"
      ],
      "text/plain": [
       "   category rating  rental_duration  rental_length_day\n",
       "0    Action      G         5.172881           5.189831\n",
       "1    Action  NC-17         4.867133           4.909091\n",
       "2    Action     PG         4.725610           5.097561\n",
       "3    Action  PG-13         5.209302           4.841860\n",
       "4    Action      R         4.610169           5.023729\n",
       "..      ...    ...              ...                ...\n",
       "75   Travel      G         4.931298           4.877863\n",
       "76   Travel  NC-17         6.007194           4.920863\n",
       "77   Travel     PG         5.872247           4.709251\n",
       "78   Travel  PG-13         5.362069           4.879310\n",
       "79   Travel      R         5.006024           4.759036\n",
       "\n",
       "[80 rows x 4 columns]"
      ]
     },
     "execution_count": 184,
     "metadata": {},
     "output_type": "execute_result"
    }
   ],
   "source": [
    "df_adj = df_durcon.groupby(['category','rating'])[['rental_duration','rental_length_day']].mean().reset_index()\n",
    "df_adj"
   ]
  },
  {
   "cell_type": "markdown",
   "metadata": {},
   "source": [
    "## Payment Trend by Month"
   ]
  },
  {
   "cell_type": "markdown",
   "metadata": {},
   "source": [
    "We want to see the payment trend by month, to see if there are any dips on the rental income."
   ]
  },
  {
   "cell_type": "code",
   "execution_count": 67,
   "metadata": {},
   "outputs": [],
   "source": [
    "# Create dataset\n",
    "df_4 = df_durcon.groupby('month')[['payment']].sum().reset_index()"
   ]
  },
  {
   "cell_type": "code",
   "execution_count": 72,
   "metadata": {},
   "outputs": [
    {
     "data": {
      "application/vnd.plotly.v1+json": {
       "config": {
        "plotlyServerURL": "https://plot.ly"
       },
       "data": [
        {
         "hovertemplate": "month=%{x}<br>payment=%{y}<extra></extra>",
         "legendgroup": "",
         "line": {
          "color": "#636efa",
          "dash": "solid"
         },
         "marker": {
          "symbol": "circle"
         },
         "mode": "lines+markers",
         "name": "",
         "orientation": "v",
         "showlegend": false,
         "type": "scatter",
         "x": [
          2,
          5,
          6,
          7,
          8
         ],
         "xaxis": "x",
         "y": [
          514.1800000000001,
          4823.4400000000005,
          9629.890000000001,
          28368.91,
          24070.14
         ],
         "yaxis": "y"
        }
       ],
       "layout": {
        "legend": {
         "tracegroupgap": 0
        },
        "template": {
         "data": {
          "bar": [
           {
            "error_x": {
             "color": "#2a3f5f"
            },
            "error_y": {
             "color": "#2a3f5f"
            },
            "marker": {
             "line": {
              "color": "#E5ECF6",
              "width": 0.5
             },
             "pattern": {
              "fillmode": "overlay",
              "size": 10,
              "solidity": 0.2
             }
            },
            "type": "bar"
           }
          ],
          "barpolar": [
           {
            "marker": {
             "line": {
              "color": "#E5ECF6",
              "width": 0.5
             },
             "pattern": {
              "fillmode": "overlay",
              "size": 10,
              "solidity": 0.2
             }
            },
            "type": "barpolar"
           }
          ],
          "carpet": [
           {
            "aaxis": {
             "endlinecolor": "#2a3f5f",
             "gridcolor": "white",
             "linecolor": "white",
             "minorgridcolor": "white",
             "startlinecolor": "#2a3f5f"
            },
            "baxis": {
             "endlinecolor": "#2a3f5f",
             "gridcolor": "white",
             "linecolor": "white",
             "minorgridcolor": "white",
             "startlinecolor": "#2a3f5f"
            },
            "type": "carpet"
           }
          ],
          "choropleth": [
           {
            "colorbar": {
             "outlinewidth": 0,
             "ticks": ""
            },
            "type": "choropleth"
           }
          ],
          "contour": [
           {
            "colorbar": {
             "outlinewidth": 0,
             "ticks": ""
            },
            "colorscale": [
             [
              0,
              "#0d0887"
             ],
             [
              0.1111111111111111,
              "#46039f"
             ],
             [
              0.2222222222222222,
              "#7201a8"
             ],
             [
              0.3333333333333333,
              "#9c179e"
             ],
             [
              0.4444444444444444,
              "#bd3786"
             ],
             [
              0.5555555555555556,
              "#d8576b"
             ],
             [
              0.6666666666666666,
              "#ed7953"
             ],
             [
              0.7777777777777778,
              "#fb9f3a"
             ],
             [
              0.8888888888888888,
              "#fdca26"
             ],
             [
              1,
              "#f0f921"
             ]
            ],
            "type": "contour"
           }
          ],
          "contourcarpet": [
           {
            "colorbar": {
             "outlinewidth": 0,
             "ticks": ""
            },
            "type": "contourcarpet"
           }
          ],
          "heatmap": [
           {
            "colorbar": {
             "outlinewidth": 0,
             "ticks": ""
            },
            "colorscale": [
             [
              0,
              "#0d0887"
             ],
             [
              0.1111111111111111,
              "#46039f"
             ],
             [
              0.2222222222222222,
              "#7201a8"
             ],
             [
              0.3333333333333333,
              "#9c179e"
             ],
             [
              0.4444444444444444,
              "#bd3786"
             ],
             [
              0.5555555555555556,
              "#d8576b"
             ],
             [
              0.6666666666666666,
              "#ed7953"
             ],
             [
              0.7777777777777778,
              "#fb9f3a"
             ],
             [
              0.8888888888888888,
              "#fdca26"
             ],
             [
              1,
              "#f0f921"
             ]
            ],
            "type": "heatmap"
           }
          ],
          "heatmapgl": [
           {
            "colorbar": {
             "outlinewidth": 0,
             "ticks": ""
            },
            "colorscale": [
             [
              0,
              "#0d0887"
             ],
             [
              0.1111111111111111,
              "#46039f"
             ],
             [
              0.2222222222222222,
              "#7201a8"
             ],
             [
              0.3333333333333333,
              "#9c179e"
             ],
             [
              0.4444444444444444,
              "#bd3786"
             ],
             [
              0.5555555555555556,
              "#d8576b"
             ],
             [
              0.6666666666666666,
              "#ed7953"
             ],
             [
              0.7777777777777778,
              "#fb9f3a"
             ],
             [
              0.8888888888888888,
              "#fdca26"
             ],
             [
              1,
              "#f0f921"
             ]
            ],
            "type": "heatmapgl"
           }
          ],
          "histogram": [
           {
            "marker": {
             "pattern": {
              "fillmode": "overlay",
              "size": 10,
              "solidity": 0.2
             }
            },
            "type": "histogram"
           }
          ],
          "histogram2d": [
           {
            "colorbar": {
             "outlinewidth": 0,
             "ticks": ""
            },
            "colorscale": [
             [
              0,
              "#0d0887"
             ],
             [
              0.1111111111111111,
              "#46039f"
             ],
             [
              0.2222222222222222,
              "#7201a8"
             ],
             [
              0.3333333333333333,
              "#9c179e"
             ],
             [
              0.4444444444444444,
              "#bd3786"
             ],
             [
              0.5555555555555556,
              "#d8576b"
             ],
             [
              0.6666666666666666,
              "#ed7953"
             ],
             [
              0.7777777777777778,
              "#fb9f3a"
             ],
             [
              0.8888888888888888,
              "#fdca26"
             ],
             [
              1,
              "#f0f921"
             ]
            ],
            "type": "histogram2d"
           }
          ],
          "histogram2dcontour": [
           {
            "colorbar": {
             "outlinewidth": 0,
             "ticks": ""
            },
            "colorscale": [
             [
              0,
              "#0d0887"
             ],
             [
              0.1111111111111111,
              "#46039f"
             ],
             [
              0.2222222222222222,
              "#7201a8"
             ],
             [
              0.3333333333333333,
              "#9c179e"
             ],
             [
              0.4444444444444444,
              "#bd3786"
             ],
             [
              0.5555555555555556,
              "#d8576b"
             ],
             [
              0.6666666666666666,
              "#ed7953"
             ],
             [
              0.7777777777777778,
              "#fb9f3a"
             ],
             [
              0.8888888888888888,
              "#fdca26"
             ],
             [
              1,
              "#f0f921"
             ]
            ],
            "type": "histogram2dcontour"
           }
          ],
          "mesh3d": [
           {
            "colorbar": {
             "outlinewidth": 0,
             "ticks": ""
            },
            "type": "mesh3d"
           }
          ],
          "parcoords": [
           {
            "line": {
             "colorbar": {
              "outlinewidth": 0,
              "ticks": ""
             }
            },
            "type": "parcoords"
           }
          ],
          "pie": [
           {
            "automargin": true,
            "type": "pie"
           }
          ],
          "scatter": [
           {
            "marker": {
             "colorbar": {
              "outlinewidth": 0,
              "ticks": ""
             }
            },
            "type": "scatter"
           }
          ],
          "scatter3d": [
           {
            "line": {
             "colorbar": {
              "outlinewidth": 0,
              "ticks": ""
             }
            },
            "marker": {
             "colorbar": {
              "outlinewidth": 0,
              "ticks": ""
             }
            },
            "type": "scatter3d"
           }
          ],
          "scattercarpet": [
           {
            "marker": {
             "colorbar": {
              "outlinewidth": 0,
              "ticks": ""
             }
            },
            "type": "scattercarpet"
           }
          ],
          "scattergeo": [
           {
            "marker": {
             "colorbar": {
              "outlinewidth": 0,
              "ticks": ""
             }
            },
            "type": "scattergeo"
           }
          ],
          "scattergl": [
           {
            "marker": {
             "colorbar": {
              "outlinewidth": 0,
              "ticks": ""
             }
            },
            "type": "scattergl"
           }
          ],
          "scattermapbox": [
           {
            "marker": {
             "colorbar": {
              "outlinewidth": 0,
              "ticks": ""
             }
            },
            "type": "scattermapbox"
           }
          ],
          "scatterpolar": [
           {
            "marker": {
             "colorbar": {
              "outlinewidth": 0,
              "ticks": ""
             }
            },
            "type": "scatterpolar"
           }
          ],
          "scatterpolargl": [
           {
            "marker": {
             "colorbar": {
              "outlinewidth": 0,
              "ticks": ""
             }
            },
            "type": "scatterpolargl"
           }
          ],
          "scatterternary": [
           {
            "marker": {
             "colorbar": {
              "outlinewidth": 0,
              "ticks": ""
             }
            },
            "type": "scatterternary"
           }
          ],
          "surface": [
           {
            "colorbar": {
             "outlinewidth": 0,
             "ticks": ""
            },
            "colorscale": [
             [
              0,
              "#0d0887"
             ],
             [
              0.1111111111111111,
              "#46039f"
             ],
             [
              0.2222222222222222,
              "#7201a8"
             ],
             [
              0.3333333333333333,
              "#9c179e"
             ],
             [
              0.4444444444444444,
              "#bd3786"
             ],
             [
              0.5555555555555556,
              "#d8576b"
             ],
             [
              0.6666666666666666,
              "#ed7953"
             ],
             [
              0.7777777777777778,
              "#fb9f3a"
             ],
             [
              0.8888888888888888,
              "#fdca26"
             ],
             [
              1,
              "#f0f921"
             ]
            ],
            "type": "surface"
           }
          ],
          "table": [
           {
            "cells": {
             "fill": {
              "color": "#EBF0F8"
             },
             "line": {
              "color": "white"
             }
            },
            "header": {
             "fill": {
              "color": "#C8D4E3"
             },
             "line": {
              "color": "white"
             }
            },
            "type": "table"
           }
          ]
         },
         "layout": {
          "annotationdefaults": {
           "arrowcolor": "#2a3f5f",
           "arrowhead": 0,
           "arrowwidth": 1
          },
          "autotypenumbers": "strict",
          "coloraxis": {
           "colorbar": {
            "outlinewidth": 0,
            "ticks": ""
           }
          },
          "colorscale": {
           "diverging": [
            [
             0,
             "#8e0152"
            ],
            [
             0.1,
             "#c51b7d"
            ],
            [
             0.2,
             "#de77ae"
            ],
            [
             0.3,
             "#f1b6da"
            ],
            [
             0.4,
             "#fde0ef"
            ],
            [
             0.5,
             "#f7f7f7"
            ],
            [
             0.6,
             "#e6f5d0"
            ],
            [
             0.7,
             "#b8e186"
            ],
            [
             0.8,
             "#7fbc41"
            ],
            [
             0.9,
             "#4d9221"
            ],
            [
             1,
             "#276419"
            ]
           ],
           "sequential": [
            [
             0,
             "#0d0887"
            ],
            [
             0.1111111111111111,
             "#46039f"
            ],
            [
             0.2222222222222222,
             "#7201a8"
            ],
            [
             0.3333333333333333,
             "#9c179e"
            ],
            [
             0.4444444444444444,
             "#bd3786"
            ],
            [
             0.5555555555555556,
             "#d8576b"
            ],
            [
             0.6666666666666666,
             "#ed7953"
            ],
            [
             0.7777777777777778,
             "#fb9f3a"
            ],
            [
             0.8888888888888888,
             "#fdca26"
            ],
            [
             1,
             "#f0f921"
            ]
           ],
           "sequentialminus": [
            [
             0,
             "#0d0887"
            ],
            [
             0.1111111111111111,
             "#46039f"
            ],
            [
             0.2222222222222222,
             "#7201a8"
            ],
            [
             0.3333333333333333,
             "#9c179e"
            ],
            [
             0.4444444444444444,
             "#bd3786"
            ],
            [
             0.5555555555555556,
             "#d8576b"
            ],
            [
             0.6666666666666666,
             "#ed7953"
            ],
            [
             0.7777777777777778,
             "#fb9f3a"
            ],
            [
             0.8888888888888888,
             "#fdca26"
            ],
            [
             1,
             "#f0f921"
            ]
           ]
          },
          "colorway": [
           "#636efa",
           "#EF553B",
           "#00cc96",
           "#ab63fa",
           "#FFA15A",
           "#19d3f3",
           "#FF6692",
           "#B6E880",
           "#FF97FF",
           "#FECB52"
          ],
          "font": {
           "color": "#2a3f5f"
          },
          "geo": {
           "bgcolor": "white",
           "lakecolor": "white",
           "landcolor": "#E5ECF6",
           "showlakes": true,
           "showland": true,
           "subunitcolor": "white"
          },
          "hoverlabel": {
           "align": "left"
          },
          "hovermode": "closest",
          "mapbox": {
           "style": "light"
          },
          "paper_bgcolor": "white",
          "plot_bgcolor": "#E5ECF6",
          "polar": {
           "angularaxis": {
            "gridcolor": "white",
            "linecolor": "white",
            "ticks": ""
           },
           "bgcolor": "#E5ECF6",
           "radialaxis": {
            "gridcolor": "white",
            "linecolor": "white",
            "ticks": ""
           }
          },
          "scene": {
           "xaxis": {
            "backgroundcolor": "#E5ECF6",
            "gridcolor": "white",
            "gridwidth": 2,
            "linecolor": "white",
            "showbackground": true,
            "ticks": "",
            "zerolinecolor": "white"
           },
           "yaxis": {
            "backgroundcolor": "#E5ECF6",
            "gridcolor": "white",
            "gridwidth": 2,
            "linecolor": "white",
            "showbackground": true,
            "ticks": "",
            "zerolinecolor": "white"
           },
           "zaxis": {
            "backgroundcolor": "#E5ECF6",
            "gridcolor": "white",
            "gridwidth": 2,
            "linecolor": "white",
            "showbackground": true,
            "ticks": "",
            "zerolinecolor": "white"
           }
          },
          "shapedefaults": {
           "line": {
            "color": "#2a3f5f"
           }
          },
          "ternary": {
           "aaxis": {
            "gridcolor": "white",
            "linecolor": "white",
            "ticks": ""
           },
           "baxis": {
            "gridcolor": "white",
            "linecolor": "white",
            "ticks": ""
           },
           "bgcolor": "#E5ECF6",
           "caxis": {
            "gridcolor": "white",
            "linecolor": "white",
            "ticks": ""
           }
          },
          "title": {
           "x": 0.05
          },
          "xaxis": {
           "automargin": true,
           "gridcolor": "white",
           "linecolor": "white",
           "ticks": "",
           "title": {
            "standoff": 15
           },
           "zerolinecolor": "white",
           "zerolinewidth": 2
          },
          "yaxis": {
           "automargin": true,
           "gridcolor": "white",
           "linecolor": "white",
           "ticks": "",
           "title": {
            "standoff": 15
           },
           "zerolinecolor": "white",
           "zerolinewidth": 2
          }
         }
        },
        "title": {
         "text": "Payment by Month"
        },
        "xaxis": {
         "anchor": "y",
         "domain": [
          0,
          1
         ],
         "title": {
          "text": "month"
         }
        },
        "yaxis": {
         "anchor": "x",
         "domain": [
          0,
          1
         ],
         "title": {
          "text": "payment"
         }
        }
       }
      }
     },
     "metadata": {},
     "output_type": "display_data"
    }
   ],
   "source": [
    "fig4 = px.line(df_4, x='month',y='payment',  title='Payment by Month', markers=True)\n",
    "\n",
    "fig4.show()"
   ]
  },
  {
   "cell_type": "markdown",
   "metadata": {},
   "source": [
    "There is a significant increase on month 7 and a slight decrease on month 8. We will now check if there are any connection between this and the geographical data."
   ]
  },
  {
   "cell_type": "markdown",
   "metadata": {},
   "source": [
    "## Rental Location"
   ]
  },
  {
   "cell_type": "markdown",
   "metadata": {},
   "source": [
    "We want to see if there are any increase or decrease of the store location. "
   ]
  },
  {
   "cell_type": "code",
   "execution_count": 109,
   "metadata": {},
   "outputs": [
    {
     "data": {
      "text/html": [
       "<div>\n",
       "<style scoped>\n",
       "    .dataframe tbody tr th:only-of-type {\n",
       "        vertical-align: middle;\n",
       "    }\n",
       "\n",
       "    .dataframe tbody tr th {\n",
       "        vertical-align: top;\n",
       "    }\n",
       "\n",
       "    .dataframe thead th {\n",
       "        text-align: right;\n",
       "    }\n",
       "</style>\n",
       "<table border=\"1\" class=\"dataframe\">\n",
       "  <thead>\n",
       "    <tr style=\"text-align: right;\">\n",
       "      <th></th>\n",
       "      <th>category</th>\n",
       "      <th>month</th>\n",
       "      <th>city</th>\n",
       "    </tr>\n",
       "  </thead>\n",
       "  <tbody>\n",
       "    <tr>\n",
       "      <th>0</th>\n",
       "      <td>Action</td>\n",
       "      <td>2</td>\n",
       "      <td>16</td>\n",
       "    </tr>\n",
       "    <tr>\n",
       "      <th>1</th>\n",
       "      <td>Action</td>\n",
       "      <td>5</td>\n",
       "      <td>81</td>\n",
       "    </tr>\n",
       "    <tr>\n",
       "      <th>2</th>\n",
       "      <td>Action</td>\n",
       "      <td>6</td>\n",
       "      <td>143</td>\n",
       "    </tr>\n",
       "    <tr>\n",
       "      <th>3</th>\n",
       "      <td>Action</td>\n",
       "      <td>7</td>\n",
       "      <td>318</td>\n",
       "    </tr>\n",
       "    <tr>\n",
       "      <th>4</th>\n",
       "      <td>Action</td>\n",
       "      <td>8</td>\n",
       "      <td>273</td>\n",
       "    </tr>\n",
       "    <tr>\n",
       "      <th>...</th>\n",
       "      <td>...</td>\n",
       "      <td>...</td>\n",
       "      <td>...</td>\n",
       "    </tr>\n",
       "    <tr>\n",
       "      <th>75</th>\n",
       "      <td>Travel</td>\n",
       "      <td>2</td>\n",
       "      <td>10</td>\n",
       "    </tr>\n",
       "    <tr>\n",
       "      <th>76</th>\n",
       "      <td>Travel</td>\n",
       "      <td>5</td>\n",
       "      <td>59</td>\n",
       "    </tr>\n",
       "    <tr>\n",
       "      <th>77</th>\n",
       "      <td>Travel</td>\n",
       "      <td>6</td>\n",
       "      <td>110</td>\n",
       "    </tr>\n",
       "    <tr>\n",
       "      <th>78</th>\n",
       "      <td>Travel</td>\n",
       "      <td>7</td>\n",
       "      <td>254</td>\n",
       "    </tr>\n",
       "    <tr>\n",
       "      <th>79</th>\n",
       "      <td>Travel</td>\n",
       "      <td>8</td>\n",
       "      <td>227</td>\n",
       "    </tr>\n",
       "  </tbody>\n",
       "</table>\n",
       "<p>80 rows × 3 columns</p>\n",
       "</div>"
      ],
      "text/plain": [
       "   category  month  city\n",
       "0    Action      2    16\n",
       "1    Action      5    81\n",
       "2    Action      6   143\n",
       "3    Action      7   318\n",
       "4    Action      8   273\n",
       "..      ...    ...   ...\n",
       "75   Travel      2    10\n",
       "76   Travel      5    59\n",
       "77   Travel      6   110\n",
       "78   Travel      7   254\n",
       "79   Travel      8   227\n",
       "\n",
       "[80 rows x 3 columns]"
      ]
     },
     "execution_count": 109,
     "metadata": {},
     "output_type": "execute_result"
    }
   ],
   "source": [
    "# Create dataset\n",
    "df_5 = df_durcon.groupby(['category','month'])['city'].nunique().reset_index()\n",
    "df_5"
   ]
  },
  {
   "cell_type": "code",
   "execution_count": 118,
   "metadata": {},
   "outputs": [
    {
     "data": {
      "text/plain": [
       "<matplotlib.lines.Line2D at 0x24e9fd212e0>"
      ]
     },
     "execution_count": 118,
     "metadata": {},
     "output_type": "execute_result"
    },
    {
     "data": {
      "image/png": "[encoded data removed]",
      "text/plain": [
       "<Figure size 1152x576 with 1 Axes>"
      ]
     },
     "metadata": {
      "needs_background": "light"
     },
     "output_type": "display_data"
    }
   ],
   "source": [
    "plt.figure(figsize=(16,8))\n",
    "\n",
    "sns.lineplot(data=df_5, x='month', y='city')\n",
    "\n",
    "plt.title('Rental Location by Month', size=20)\n",
    "plt.xlabel('Month', size=13)\n",
    "plt.ylabel('City',size=13)\n",
    "plt.text(6.9,240,'Drop in Rental Location', fontsize=14)\n",
    "plt.axvline(x=7,linestyle='--')"
   ]
  },
  {
   "cell_type": "markdown",
   "metadata": {},
   "source": [
    "This drop on store location explain the decrease on payment. Further investigation on the reason for closure is needed, so we can analyze the data to avoid similar occurence."
   ]
  },
  {
   "cell_type": "markdown",
   "metadata": {},
   "source": [
    "# CONCLUSION\n",
    "\n",
    "From the data we found:\n",
    "1. that there are difference on payment mean\n",
    "2. most of our payment are overdue and charge with penalty\n",
    "3. we have a dip on our payment between month 7 and 8\n",
    "4. our rental location also dropped on that same month\n",
    "\n",
    "\n",
    "To do:\n",
    "1. adjust the rental duration and rate accordingly\n",
    "2. investigate the reason of the rental location closure"
   ]
  }
 ],
 "metadata": {
  "interpreter": {
   "hash": "1162ceb2a2ab4ede45c7077d8c319092ae043e9d1096a576dbd5ce1c88aacb77"
  },
  "kernelspec": {
   "display_name": "Python 3.9.7 ('base')",
   "language": "python",
   "name": "python3"
  },
  "language_info": {
   "codemirror_mode": {
    "name": "ipython",
    "version": 3
   },
   "file_extension": ".py",
   "mimetype": "text/x-python",
   "name": "python",
   "nbconvert_exporter": "python",
   "pygments_lexer": "ipython3",
   "version": "3.9.7"
  },
  "orig_nbformat": 4
 },
 "nbformat": 4,
 "nbformat_minor": 2
}
